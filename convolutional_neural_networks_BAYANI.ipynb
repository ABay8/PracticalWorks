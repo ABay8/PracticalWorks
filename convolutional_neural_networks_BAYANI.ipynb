{
  "cells": [
    {
      "cell_type": "markdown",
      "metadata": {
        "id": "kaht-FPA1Jvq"
      },
      "source": [
        "# Introduction\n",
        "\n",
        "## Lab2: Train a Convolutional Neural Network (CNN).\n",
        "\n",
        "In this Lab session we will learn how to train a CNN from scratch for classifying MNIST digits."
      ]
    },
    {
      "cell_type": "code",
      "execution_count": 1,
      "metadata": {
        "id": "UvxtTYHlVfRK"
      },
      "outputs": [],
      "source": [
        "# import necessary libraries\n",
        "import torch\n",
        "import torchvision\n",
        "from torchvision import transforms as T\n",
        "import torch.nn.functional as F"
      ]
    },
    {
      "cell_type": "markdown",
      "metadata": {
        "id": "HYCvhGxKWyN7"
      },
      "source": [
        "### Define LeNet\n",
        "\n",
        "![network architecture](https://www.researchgate.net/profile/Lucijano-Berus/publication/329891470/figure/fig1/AS:707347647307776@1545656229128/Architecture-of-LeNet-5-a-Convolutional-Neural-Network-for-digits-digits-recognition-An.ppm)\n",
        "\n",
        "Here we are going to define our first CNN which is **LeNet** in this case. This architecture has been introduced and is detailed in [this article](http://vision.stanford.edu/cs598_spring07/papers/Lecun98.pdf). To construct a LeNet we will be using some convolutional layers followed by some fully-connected layers. The convolutional layers can be simply defined using `torch.nn.Conv2d` module of `torch.nn` package. Details can be found [here](https://pytorch.org/docs/stable/nn.html#conv2d). Moreover, we will use pooling operation to reduce the size of convolutional feature maps. For this case we are going to use `torch.nn.functional.max_pool2d`. Details about maxpooling can be found [here](https://pytorch.org/docs/stable/nn.html#max-pool2d)\n",
        "\n",
        "Differently from our previous Lab, we will use a Rectified Linear Units (ReLU) as activation function with the help of `torch.nn.functional.relu`, replacing `torch.nn.Sigmoid`. Details about ReLU can be found [here](https://pytorch.org/docs/stable/nn.html#id26)."
      ]
    },
    {
      "cell_type": "code",
      "execution_count": 2,
      "metadata": {
        "id": "dMC_LDYdWkI7"
      },
      "outputs": [],
      "source": [
        "class LeNet(torch.nn.Module):\n",
        "  def __init__(self):\n",
        "    super(LeNet, self).__init__()\n",
        "    \n",
        "    in_channels = 1\n",
        "    out_channels = 6\n",
        "    kernel_size = 5\n",
        "    self.input_image_size1 = (28, 28)\n",
        "    self.image_output_size1 = (24, 24)\n",
        "    # TODO\n",
        "    self.fc1 = torch.nn.Conv2d(in_channels, out_channels, kernel_size)\n",
        "    \n",
        "    in_channels = 6\n",
        "    out_channels = 16\n",
        "    kernel_size = 5\n",
        "    self.input_image_size2 = (12, 12)\n",
        "    self.image_output_size2 = (8, 8)\n",
        "    # TODO\n",
        "    self.fc2 = torch.nn.Conv2d(in_channels, out_channels, kernel_size)\n",
        "    \n",
        "    input_dim = 256 #( H x W x C)\n",
        "    output_dim = 120\n",
        "    # TODO\n",
        "    self.fc3 = torch.nn.Linear(input_dim, output_dim)\n",
        "    \n",
        "    input_dim = 120\n",
        "    output_dim = 84\n",
        "    # TODO\n",
        "    self.fc4 = torch.nn.Linear(input_dim, output_dim)\n",
        "    \n",
        "    \n",
        "    input_dim = 84\n",
        "    output_dim = 10\n",
        "    # TODO\n",
        "    self.fc5 = torch.nn.Linear(input_dim, output_dim)\n",
        "    \n",
        "    \n",
        "  def forward(self, x):\n",
        "    \n",
        "    # TODO\n",
        "    # Max Pooling with \n",
        "    kernel_size = 2\n",
        "    # output size = (14,14)\n",
        "    x = F.max_pool2d( self.fc1(x) ,kernel_size)\n",
        "    \n",
        "    # TODO\n",
        "    #Max pooling with\n",
        "    kernel_size = 2\n",
        "    # output size = (5,5)\n",
        "    x = F.max_pool2d( self.fc2(x),kernel_size)\n",
        "    \n",
        "    # flatten the feature maps into a long vector#...\n",
        "    x = x.view(x.shape[0], -1)\n",
        "    \n",
        "    # TODO\n",
        "    x = F.relu(self.fc3(x))\n",
        "    \n",
        "    # TODO\n",
        "    x = F.relu(self.fc4(x))\n",
        "    \n",
        "    # TODO\n",
        "    x = F.softmax(self.fc5(x), dim=1)\n",
        "    \n",
        "    return x"
      ]
    },
    {
      "cell_type": "markdown",
      "metadata": {
        "id": "gChf6TvWonrV"
      },
      "source": [
        "### Define cost function"
      ]
    },
    {
      "cell_type": "code",
      "execution_count": 3,
      "metadata": {
        "id": "6j5UrBH3oek8"
      },
      "outputs": [],
      "source": [
        "def get_cost_function():\n",
        "  cost_function = torch.nn.CrossEntropyLoss()\n",
        "  return cost_function"
      ]
    },
    {
      "cell_type": "markdown",
      "metadata": {
        "id": "U2TjXeVdorV9"
      },
      "source": [
        "### Define the optimizer\n",
        "\n",
        "We will use SGD with learning rate-lr, weight_decay=wd and  momentum=momentum "
      ]
    },
    {
      "cell_type": "code",
      "execution_count": 4,
      "metadata": {
        "id": "hBZN-WPboulR"
      },
      "outputs": [],
      "source": [
        "def get_optimizer(net, lr, wd, momentum):\n",
        "  optimizer =  torch.optim.SGD(net.parameters(), lr=lr, weight_decay = wd, momentum=momentum)\n",
        "  return optimizer"
      ]
    },
    {
      "cell_type": "markdown",
      "metadata": {
        "id": "wTkfrV64oxIL"
      },
      "source": [
        "### Train and test functions"
      ]
    },
    {
      "cell_type": "code",
      "execution_count": 5,
      "metadata": {
        "id": "t-sE5vFio0lf"
      },
      "outputs": [],
      "source": [
        "def test(net, data_loader, cost_function, device='cuda:0'):\n",
        "  samples = 0.\n",
        "  cumulative_loss = 0.\n",
        "  cumulative_accuracy = 0.\n",
        "\n",
        "  net.eval() # Strictly needed if network contains layers which has different behaviours between train and test\n",
        "  with torch.no_grad():\n",
        "    for batch_idx, (inputs, targets) in enumerate(data_loader):\n",
        "      # Load data into GPU\n",
        "      inputs = inputs.to(device)\n",
        "      targets = targets.to(device)\n",
        "        \n",
        "      # Forward pass\n",
        "      outputs = net(inputs)\n",
        "\n",
        "      # Apply the loss\n",
        "      loss = cost_function(outputs, targets)\n",
        "\n",
        "      # Better print something\n",
        "      samples+=inputs.shape[0]\n",
        "      cumulative_loss += loss.item() # Note: the .item() is needed to extract scalars from tensors\n",
        "      _, predicted = outputs.max(1)\n",
        "      cumulative_accuracy += predicted.eq(targets).sum().item()\n",
        "\n",
        "  return cumulative_loss/samples, cumulative_accuracy/samples*100\n",
        "\n",
        "\n",
        "def train(net,data_loader,optimizer,cost_function, device='cuda:0'):\n",
        "  samples = 0.\n",
        "  cumulative_loss = 0.\n",
        "  cumulative_accuracy = 0.\n",
        "\n",
        "  \n",
        "  net.train() # Strictly needed if network contains layers which has different behaviours between train and test\n",
        "  for batch_idx, (inputs, targets) in enumerate(data_loader):\n",
        "    # Load data into GPU\n",
        "    inputs = inputs.to(device)\n",
        "    targets = targets.to(device)\n",
        "      \n",
        "    # Forward pass\n",
        "    outputs = net(inputs)\n",
        "\n",
        "    # Apply the loss\n",
        "    loss = cost_function(outputs,targets)\n",
        "\n",
        "    # Reset the optimizer\n",
        "      \n",
        "    # Backward pass\n",
        "    loss.backward()\n",
        "    \n",
        "    # Update parameters\n",
        "    optimizer.step()\n",
        "    \n",
        "    optimizer.zero_grad()\n",
        "\n",
        "    # Better print something, no?\n",
        "    samples+=inputs.shape[0]\n",
        "    cumulative_loss += loss.item()\n",
        "    _, predicted = outputs.max(1)\n",
        "    cumulative_accuracy += predicted.eq(targets).sum().item()\n",
        "\n",
        "  return cumulative_loss/samples, cumulative_accuracy/samples*100"
      ]
    },
    {
      "cell_type": "markdown",
      "metadata": {
        "id": "T6IT0Lsgo8AM"
      },
      "source": [
        "### Define the function that fetches a data loader that is then used during iterative training.\n",
        "\n",
        "We will learn a new thing in this function as how to Normalize the inputs given to the network.\n",
        "\n",
        "***Why Normalization is needed***? \n",
        "\n",
        "To have nice and stable training of the network it is recommended to normalize the network inputs between \\[-1, 1\\]. \n",
        "\n",
        "***How it can be done***? \n",
        "\n",
        "This can be simply done using `torchvision.transforms.Normalize()` transform. Details can be found [here](https://pytorch.org/docs/stable/torchvision/transforms.html#torchvision.transforms.Normalize)."
      ]
    },
    {
      "cell_type": "code",
      "execution_count": 6,
      "metadata": {
        "id": "qDxpo6uVo_8k"
      },
      "outputs": [],
      "source": [
        "def get_data(batch_size, test_batch_size=256):\n",
        "  \n",
        "  # Prepare data transformations and then combine them sequentially\n",
        "  transform = list()\n",
        "  transform.append(T.ToTensor())                            # converts Numpy to Pytorch Tensor\n",
        "  transform.append(T.Normalize(mean=[0.5], std=[0.5]))      # Normalizes the Tensors between [-1, 1]\n",
        "  transform = T.Compose(transform)                          # Composes the above transformations into one.\n",
        "\n",
        "  # Load data\n",
        "  full_training_data = torchvision.datasets.MNIST('./data', train=True, transform=transform, download=True) \n",
        "  test_data = torchvision.datasets.MNIST('./data', train=False, transform=transform, download=True) \n",
        "  \n",
        "\n",
        "  # Create train and validation splits\n",
        "  num_samples = len(full_training_data)\n",
        "  training_samples = int(num_samples*0.5+1)\n",
        "  validation_samples = num_samples - training_samples\n",
        "\n",
        "  training_data, validation_data = torch.utils.data.random_split(full_training_data, [training_samples, validation_samples])\n",
        "\n",
        "  # Initialize dataloaders\n",
        "  train_loader = torch.utils.data.DataLoader(training_data, batch_size, shuffle=True)\n",
        "  val_loader = torch.utils.data.DataLoader(validation_data, test_batch_size, shuffle=False)\n",
        "  test_loader = torch.utils.data.DataLoader(test_data, test_batch_size, shuffle=False)\n",
        "  \n",
        "  return train_loader, val_loader, test_loader"
      ]
    },
    {
      "cell_type": "markdown",
      "metadata": {
        "id": "OHcB8f0AsY4n"
      },
      "source": [
        "### Wrapping everything up\n",
        "\n",
        "Finally, we need a main function which initializes everything + the needed hyperparameters and loops over multiple epochs (printing the results)."
      ]
    },
    {
      "cell_type": "code",
      "execution_count": 7,
      "metadata": {
        "id": "ip_R-hruse0Q"
      },
      "outputs": [],
      "source": [
        "'''\n",
        "Input arguments\n",
        "  batch_size: Size of a mini-batch\n",
        "  device: GPU where you want to train your network\n",
        "  weight_decay: Weight decay co-efficient for regularization of weights\n",
        "  momentum: Momentum for SGD optimizer\n",
        "  epochs: Number of epochs for training the network\n",
        "'''\n",
        "\n",
        "def main(batch_size=128, \n",
        "         device='cuda:0', \n",
        "         learning_rate=0.01, \n",
        "         weight_decay=0.000001, \n",
        "         momentum=0.9, \n",
        "         epochs=50, net = LeNet()):\n",
        "  \n",
        "  train_loader, val_loader, test_loader = get_data(batch_size)\n",
        "  \n",
        "  # TODO for defining LeNet-5 \n",
        "  net = net.to(device)\n",
        "  \n",
        "  optimizer = get_optimizer(net, learning_rate, weight_decay, momentum)\n",
        "  \n",
        "  cost_function = get_cost_function()\n",
        "\n",
        "  print('Before training:')\n",
        "  train_loss, train_accuracy = test(net, train_loader, cost_function)\n",
        "  val_loss, val_accuracy = test(net, val_loader, cost_function)\n",
        "  test_loss, test_accuracy = test(net, test_loader, cost_function)\n",
        "\n",
        "  print('\\t Training loss {:.5f}, Training accuracy {:.2f}'.format(train_loss, train_accuracy))\n",
        "  print('\\t Validation loss {:.5f}, Validation accuracy {:.2f}'.format(val_loss, val_accuracy))\n",
        "  print('\\t Test loss {:.5f}, Test accuracy {:.2f}'.format(test_loss, test_accuracy))\n",
        "  print('-----------------------------------------------------')\n",
        "\n",
        "  for e in range(epochs):\n",
        "    train_loss, train_accuracy = train(net, train_loader, optimizer, cost_function)\n",
        "    val_loss, val_accuracy = test(net, val_loader, cost_function)\n",
        "    print('Epoch: {:d}'.format(e+1))\n",
        "    print('\\t Training loss {:.5f}, Training accuracy {:.2f}'.format(train_loss, train_accuracy))\n",
        "    print('\\t Validation loss {:.5f}, Validation accuracy {:.2f}'.format(val_loss, val_accuracy))\n",
        "    print('-----------------------------------------------------')\n",
        "\n",
        "  print('After training:')\n",
        "  train_loss, train_accuracy = test(net, train_loader, cost_function)\n",
        "  val_loss, val_accuracy = test(net, val_loader, cost_function)\n",
        "  test_loss, test_accuracy = test(net, test_loader, cost_function)\n",
        "\n",
        "  print('\\t Training loss {:.5f}, Training accuracy {:.2f}'.format(train_loss, train_accuracy))\n",
        "  print('\\t Validation loss {:.5f}, Validation accuracy {:.2f}'.format(val_loss, val_accuracy))\n",
        "  print('\\t Test loss {:.5f}, Test accuracy {:.2f}'.format(test_loss, test_accuracy))\n",
        "  print('-----------------------------------------------------')\n",
        "\n",
        "  return net"
      ]
    },
    {
      "cell_type": "markdown",
      "metadata": {
        "id": "ltdCMiB3t18h"
      },
      "source": [
        "Lets train!"
      ]
    },
    {
      "cell_type": "code",
      "execution_count": 8,
      "metadata": {
        "id": "6d-z20H4tziL",
        "colab": {
          "base_uri": "https://localhost:8080/"
        },
        "outputId": "4e5f45b7-2c67-4a61-effb-0df1dbad8f0f"
      },
      "outputs": [
        {
          "output_type": "stream",
          "name": "stdout",
          "text": [
            "Downloading http://yann.lecun.com/exdb/mnist/train-images-idx3-ubyte.gz\n",
            "Downloading http://yann.lecun.com/exdb/mnist/train-images-idx3-ubyte.gz to ./data/MNIST/raw/train-images-idx3-ubyte.gz\n"
          ]
        },
        {
          "output_type": "stream",
          "name": "stderr",
          "text": [
            "100%|██████████| 9912422/9912422 [00:00<00:00, 104680415.45it/s]\n"
          ]
        },
        {
          "output_type": "stream",
          "name": "stdout",
          "text": [
            "Extracting ./data/MNIST/raw/train-images-idx3-ubyte.gz to ./data/MNIST/raw\n",
            "\n",
            "Downloading http://yann.lecun.com/exdb/mnist/train-labels-idx1-ubyte.gz\n",
            "Downloading http://yann.lecun.com/exdb/mnist/train-labels-idx1-ubyte.gz to ./data/MNIST/raw/train-labels-idx1-ubyte.gz\n"
          ]
        },
        {
          "output_type": "stream",
          "name": "stderr",
          "text": [
            "100%|██████████| 28881/28881 [00:00<00:00, 122235816.17it/s]\n"
          ]
        },
        {
          "output_type": "stream",
          "name": "stdout",
          "text": [
            "Extracting ./data/MNIST/raw/train-labels-idx1-ubyte.gz to ./data/MNIST/raw\n",
            "\n",
            "Downloading http://yann.lecun.com/exdb/mnist/t10k-images-idx3-ubyte.gz\n",
            "Downloading http://yann.lecun.com/exdb/mnist/t10k-images-idx3-ubyte.gz to ./data/MNIST/raw/t10k-images-idx3-ubyte.gz\n"
          ]
        },
        {
          "output_type": "stream",
          "name": "stderr",
          "text": [
            "100%|██████████| 1648877/1648877 [00:00<00:00, 38112064.22it/s]\n"
          ]
        },
        {
          "output_type": "stream",
          "name": "stdout",
          "text": [
            "Extracting ./data/MNIST/raw/t10k-images-idx3-ubyte.gz to ./data/MNIST/raw\n",
            "\n",
            "Downloading http://yann.lecun.com/exdb/mnist/t10k-labels-idx1-ubyte.gz\n",
            "Downloading http://yann.lecun.com/exdb/mnist/t10k-labels-idx1-ubyte.gz to ./data/MNIST/raw/t10k-labels-idx1-ubyte.gz\n"
          ]
        },
        {
          "output_type": "stream",
          "name": "stderr",
          "text": [
            "100%|██████████| 4542/4542 [00:00<00:00, 4989661.80it/s]\n"
          ]
        },
        {
          "output_type": "stream",
          "name": "stdout",
          "text": [
            "Extracting ./data/MNIST/raw/t10k-labels-idx1-ubyte.gz to ./data/MNIST/raw\n",
            "\n",
            "Before training:\n",
            "\t Training loss 0.01804, Training accuracy 8.85\n",
            "\t Validation loss 0.00906, Validation accuracy 9.59\n",
            "\t Test loss 0.00921, Test accuracy 9.48\n",
            "-----------------------------------------------------\n",
            "Epoch: 1\n",
            "\t Training loss 0.01801, Training accuracy 31.05\n",
            "\t Validation loss 0.00902, Validation accuracy 45.29\n",
            "-----------------------------------------------------\n",
            "Epoch: 2\n",
            "\t Training loss 0.01610, Training accuracy 49.36\n",
            "\t Validation loss 0.00679, Validation accuracy 74.20\n",
            "-----------------------------------------------------\n",
            "Epoch: 3\n",
            "\t Training loss 0.01311, Training accuracy 79.51\n",
            "\t Validation loss 0.00630, Validation accuracy 87.34\n",
            "-----------------------------------------------------\n",
            "Epoch: 4\n",
            "\t Training loss 0.01217, Training accuracy 91.55\n",
            "\t Validation loss 0.00604, Validation accuracy 93.20\n",
            "-----------------------------------------------------\n",
            "Epoch: 5\n",
            "\t Training loss 0.01197, Training accuracy 93.81\n",
            "\t Validation loss 0.00599, Validation accuracy 94.31\n",
            "-----------------------------------------------------\n",
            "Epoch: 6\n",
            "\t Training loss 0.01187, Training accuracy 94.98\n",
            "\t Validation loss 0.00594, Validation accuracy 95.33\n",
            "-----------------------------------------------------\n",
            "Epoch: 7\n",
            "\t Training loss 0.01179, Training accuracy 95.83\n",
            "\t Validation loss 0.00593, Validation accuracy 95.77\n",
            "-----------------------------------------------------\n",
            "Epoch: 8\n",
            "\t Training loss 0.01173, Training accuracy 96.61\n",
            "\t Validation loss 0.00590, Validation accuracy 96.36\n",
            "-----------------------------------------------------\n",
            "Epoch: 9\n",
            "\t Training loss 0.01171, Training accuracy 96.78\n",
            "\t Validation loss 0.00589, Validation accuracy 96.64\n",
            "-----------------------------------------------------\n",
            "Epoch: 10\n",
            "\t Training loss 0.01168, Training accuracy 97.17\n",
            "\t Validation loss 0.00589, Validation accuracy 96.51\n",
            "-----------------------------------------------------\n",
            "Epoch: 11\n",
            "\t Training loss 0.01166, Training accuracy 97.40\n",
            "\t Validation loss 0.00588, Validation accuracy 96.83\n",
            "-----------------------------------------------------\n",
            "Epoch: 12\n",
            "\t Training loss 0.01164, Training accuracy 97.66\n",
            "\t Validation loss 0.00586, Validation accuracy 97.24\n",
            "-----------------------------------------------------\n",
            "Epoch: 13\n",
            "\t Training loss 0.01163, Training accuracy 97.88\n",
            "\t Validation loss 0.00586, Validation accuracy 97.36\n",
            "-----------------------------------------------------\n",
            "Epoch: 14\n",
            "\t Training loss 0.01162, Training accuracy 98.03\n",
            "\t Validation loss 0.00586, Validation accuracy 97.38\n",
            "-----------------------------------------------------\n",
            "Epoch: 15\n",
            "\t Training loss 0.01161, Training accuracy 98.02\n",
            "\t Validation loss 0.00586, Validation accuracy 97.18\n",
            "-----------------------------------------------------\n",
            "Epoch: 16\n",
            "\t Training loss 0.01160, Training accuracy 98.12\n",
            "\t Validation loss 0.00585, Validation accuracy 97.55\n",
            "-----------------------------------------------------\n",
            "Epoch: 17\n",
            "\t Training loss 0.01159, Training accuracy 98.26\n",
            "\t Validation loss 0.00584, Validation accuracy 97.66\n",
            "-----------------------------------------------------\n",
            "Epoch: 18\n",
            "\t Training loss 0.01159, Training accuracy 98.32\n",
            "\t Validation loss 0.00584, Validation accuracy 97.74\n",
            "-----------------------------------------------------\n",
            "Epoch: 19\n",
            "\t Training loss 0.01157, Training accuracy 98.53\n",
            "\t Validation loss 0.00584, Validation accuracy 97.72\n",
            "-----------------------------------------------------\n",
            "Epoch: 20\n",
            "\t Training loss 0.01157, Training accuracy 98.46\n",
            "\t Validation loss 0.00585, Validation accuracy 97.52\n",
            "-----------------------------------------------------\n",
            "After training:\n",
            "\t Training loss 0.01157, Training accuracy 98.48\n",
            "\t Validation loss 0.00585, Validation accuracy 97.52\n",
            "\t Test loss 0.00593, Test accuracy 97.94\n",
            "-----------------------------------------------------\n"
          ]
        }
      ],
      "source": [
        "net = main(epochs=20)"
      ]
    },
    {
      "cell_type": "markdown",
      "metadata": {
        "id": "NQBDT48CKMVC"
      },
      "source": [
        "Using the proper metric from sklearn, check which character is most frequently confused with which: can you explain why ?\n",
        "\n"
      ]
    },
    {
      "cell_type": "code",
      "execution_count": 9,
      "metadata": {
        "id": "sm5b4MV1KzQ7"
      },
      "outputs": [],
      "source": [
        "from sklearn.metrics import confusion_matrix, ConfusionMatrixDisplay\n",
        "\n",
        "mat = torch.zeros((10,10))\n",
        "train_loader, val_loader, test_loader = get_data(batch_size=128)\n",
        "for batch_idx, (inputs, targets) in enumerate(test_loader):\n",
        "  inputs = inputs.to('cuda:0')\n",
        "  targets = targets.to('cuda:0')\n",
        "    \n",
        "  outputs = torch.argmax(net(inputs), dim=1)\n",
        "\n",
        "  mat += confusion_matrix(outputs.detach().cpu(), targets.detach().cpu())"
      ]
    },
    {
      "cell_type": "code",
      "source": [
        "import matplotlib.pyplot as plt\n",
        "\n",
        "mat = mat.detach().numpy().astype(int)\n",
        "\n",
        "disp = ConfusionMatrixDisplay(confusion_matrix=mat)\n",
        "\n",
        "disp.plot()\n",
        "plt.show()"
      ],
      "metadata": {
        "colab": {
          "base_uri": "https://localhost:8080/",
          "height": 449
        },
        "id": "EXrKGa35_cj3",
        "outputId": "90c0aded-ec9c-4bbc-8758-2f246b757623"
      },
      "execution_count": 10,
      "outputs": [
        {
          "output_type": "display_data",
          "data": {
            "text/plain": [
              "<Figure size 640x480 with 2 Axes>"
            ],
            "image/png": "[encoded data removed]"
          },
          "metadata": {}
        }
      ]
    },
    {
      "cell_type": "markdown",
      "metadata": {
        "id": "ZOvixkfeMHrD"
      },
      "source": [
        "The LeNet5 architecture can also be implemented using the sequential API ([see documentation ](https://pytorch.org/docs/stable/generated/torch.nn.Sequential.html)). Reimplement it with this API."
      ]
    },
    {
      "cell_type": "code",
      "source": [
        "LeNet5 = torch.nn.Sequential(\n",
        "          torch.nn.Conv2d(1,6,5),\n",
        "          torch.nn.MaxPool2d(2),\n",
        "          torch.nn.Conv2d(6,16,5),\n",
        "          torch.nn.MaxPool2d(2),\n",
        "          torch.nn.Flatten(),\n",
        "          torch.nn.Linear(256,120),\n",
        "          torch.nn.ReLU(),\n",
        "          torch.nn.Linear(120,84),\n",
        "          torch.nn.ReLU(),\n",
        "          torch.nn.Linear(84,10),\n",
        "          torch.nn.Softmax(dim=1),\n",
        "        )"
      ],
      "metadata": {
        "id": "FuNrH9wZ8NNS"
      },
      "execution_count": 11,
      "outputs": []
    },
    {
      "cell_type": "code",
      "source": [
        "LeNet5 = main(epochs=20, net= LeNet5)"
      ],
      "metadata": {
        "colab": {
          "base_uri": "https://localhost:8080/"
        },
        "id": "gijbYFbmAohI",
        "outputId": "addf68dd-6f91-48f0-e67a-4b8e0afed8df"
      },
      "execution_count": 12,
      "outputs": [
        {
          "output_type": "stream",
          "name": "stdout",
          "text": [
            "Before training:\n",
            "\t Training loss 0.01804, Training accuracy 12.98\n",
            "\t Validation loss 0.00906, Validation accuracy 13.13\n",
            "\t Test loss 0.00921, Test accuracy 13.06\n",
            "-----------------------------------------------------\n",
            "Epoch: 1\n",
            "\t Training loss 0.01801, Training accuracy 19.00\n",
            "\t Validation loss 0.00901, Validation accuracy 20.53\n",
            "-----------------------------------------------------\n",
            "Epoch: 2\n",
            "\t Training loss 0.01577, Training accuracy 47.33\n",
            "\t Validation loss 0.00672, Validation accuracy 76.84\n",
            "-----------------------------------------------------\n",
            "Epoch: 3\n",
            "\t Training loss 0.01297, Training accuracy 81.34\n",
            "\t Validation loss 0.00641, Validation accuracy 83.54\n",
            "-----------------------------------------------------\n",
            "Epoch: 4\n",
            "\t Training loss 0.01271, Training accuracy 84.16\n",
            "\t Validation loss 0.00635, Validation accuracy 84.87\n",
            "-----------------------------------------------------\n",
            "Epoch: 5\n",
            "\t Training loss 0.01261, Training accuracy 85.39\n",
            "\t Validation loss 0.00630, Validation accuracy 86.13\n",
            "-----------------------------------------------------\n",
            "Epoch: 6\n",
            "\t Training loss 0.01252, Training accuracy 86.46\n",
            "\t Validation loss 0.00627, Validation accuracy 86.86\n",
            "-----------------------------------------------------\n",
            "Epoch: 7\n",
            "\t Training loss 0.01247, Training accuracy 87.02\n",
            "\t Validation loss 0.00626, Validation accuracy 87.01\n",
            "-----------------------------------------------------\n",
            "Epoch: 8\n",
            "\t Training loss 0.01244, Training accuracy 87.44\n",
            "\t Validation loss 0.00625, Validation accuracy 87.30\n",
            "-----------------------------------------------------\n",
            "Epoch: 9\n",
            "\t Training loss 0.01241, Training accuracy 87.74\n",
            "\t Validation loss 0.00624, Validation accuracy 87.37\n",
            "-----------------------------------------------------\n",
            "Epoch: 10\n",
            "\t Training loss 0.01239, Training accuracy 87.97\n",
            "\t Validation loss 0.00623, Validation accuracy 87.75\n",
            "-----------------------------------------------------\n",
            "Epoch: 11\n",
            "\t Training loss 0.01238, Training accuracy 88.18\n",
            "\t Validation loss 0.00623, Validation accuracy 87.81\n",
            "-----------------------------------------------------\n",
            "Epoch: 12\n",
            "\t Training loss 0.01236, Training accuracy 88.32\n",
            "\t Validation loss 0.00622, Validation accuracy 87.94\n",
            "-----------------------------------------------------\n",
            "Epoch: 13\n",
            "\t Training loss 0.01235, Training accuracy 88.43\n",
            "\t Validation loss 0.00622, Validation accuracy 88.01\n",
            "-----------------------------------------------------\n",
            "Epoch: 14\n",
            "\t Training loss 0.01234, Training accuracy 88.62\n",
            "\t Validation loss 0.00621, Validation accuracy 88.22\n",
            "-----------------------------------------------------\n",
            "Epoch: 15\n",
            "\t Training loss 0.01233, Training accuracy 88.64\n",
            "\t Validation loss 0.00621, Validation accuracy 88.17\n",
            "-----------------------------------------------------\n",
            "Epoch: 16\n",
            "\t Training loss 0.01232, Training accuracy 88.76\n",
            "\t Validation loss 0.00621, Validation accuracy 88.26\n",
            "-----------------------------------------------------\n",
            "Epoch: 17\n",
            "\t Training loss 0.01232, Training accuracy 88.87\n",
            "\t Validation loss 0.00620, Validation accuracy 88.39\n",
            "-----------------------------------------------------\n",
            "Epoch: 18\n",
            "\t Training loss 0.01231, Training accuracy 88.85\n",
            "\t Validation loss 0.00620, Validation accuracy 88.45\n",
            "-----------------------------------------------------\n",
            "Epoch: 19\n",
            "\t Training loss 0.01230, Training accuracy 88.96\n",
            "\t Validation loss 0.00619, Validation accuracy 88.50\n",
            "-----------------------------------------------------\n",
            "Epoch: 20\n",
            "\t Training loss 0.01229, Training accuracy 89.08\n",
            "\t Validation loss 0.00619, Validation accuracy 88.57\n",
            "-----------------------------------------------------\n",
            "After training:\n",
            "\t Training loss 0.01229, Training accuracy 89.15\n",
            "\t Validation loss 0.00619, Validation accuracy 88.57\n",
            "\t Test loss 0.00630, Test accuracy 88.37\n",
            "-----------------------------------------------------\n"
          ]
        }
      ]
    },
    {
      "cell_type": "code",
      "source": [
        "\n",
        "mat = torch.zeros((10,10))\n",
        "train_loader, val_loader, test_loader = get_data(batch_size=128)\n",
        "for batch_idx, (inputs, targets) in enumerate(test_loader):\n",
        "  inputs = inputs.to('cuda:0')\n",
        "  targets = targets.to('cuda:0')\n",
        "    \n",
        "  outputs = torch.argmax(LeNet5(inputs), dim=1)\n",
        "\n",
        "  mat += confusion_matrix(outputs.detach().cpu(), targets.detach().cpu())\n",
        "\n",
        "\n",
        "mat = mat.detach().numpy().astype(int)\n",
        "\n",
        "disp = ConfusionMatrixDisplay(confusion_matrix=mat)\n",
        "\n",
        "disp.plot()\n",
        "plt.show()"
      ],
      "metadata": {
        "colab": {
          "base_uri": "https://localhost:8080/",
          "height": 449
        },
        "id": "-TKImGTOB9f_",
        "outputId": "09fab883-0a70-4530-fb29-a1e61f781dcd"
      },
      "execution_count": 13,
      "outputs": [
        {
          "output_type": "display_data",
          "data": {
            "text/plain": [
              "<Figure size 640x480 with 2 Axes>"
            ],
            "image/png": "[encoded data removed]"
          },
          "metadata": {}
        }
      ]
    },
    {
      "cell_type": "markdown",
      "metadata": {
        "id": "7i3-pC5xAyu5"
      },
      "source": [
        "##Experiments\n",
        "\n",
        "\n",
        "* Implement adaptive early stopping: if the validation loss did not decrease for K consecutive epochs, stop training.\n",
        "* Change dataset in order to evaluate the LeNet5 network on cifar10 dataset. You can have a look at the pytorch documentation to easily access the cifar10 dataset. \n",
        "* Try to improve performance with:\n",
        "   *   data-augmentation\n",
        "   *   dropout\n",
        "* Implement the resnet18 architecture using the Resnet18 class from pytorch.\n",
        "\n",
        "\n",
        "\n"
      ]
    },
    {
      "cell_type": "markdown",
      "source": [
        "CIFAR dataset + we implement the data augmentation there : "
      ],
      "metadata": {
        "id": "jryqsiZQ9pfN"
      }
    },
    {
      "cell_type": "code",
      "source": [
        "def get_data_cifar(batch_size=4, test_batch_size=256, augmentation=False, Notresnet=True):\n",
        "  \n",
        "  # Prepare data transformations and then combine them sequentially\n",
        "  transform = list()\n",
        "\n",
        "  ################      DATA AUGMENTATION   ##################\n",
        "  if augmentation : \n",
        "    transform.append(T.RandomHorizontalFlip(p=0.5))\n",
        "    transform.append(T.RandomVerticalFlip(p=0.5))\n",
        "                    #######################\n",
        "\n",
        "  transform.append(T.ToTensor())                            # converts Numpy to Pytorch Tensor\n",
        "  transform.append(T.Normalize(mean=[0.5], std=[0.5]))      # Normalizes the Tensors between [-1, 1]\n",
        "\n",
        "  if Notresnet : \n",
        "    transform.append(T.Lambda(lambda x: torch.reshape(x, (3, 32, 32))))\n",
        "    transform.append(T.Lambda( lambda x : torch.mean(x, dim=0)))\n",
        "    transform.append(T.CenterCrop((28,28)))\n",
        "    transform.append(T.Lambda(lambda x: torch.reshape(x, (1, 28, 28))))\n",
        "\n",
        "  transform = T.Compose(transform)                          # Composes the above transformations into one.\n",
        "\n",
        "  # Load data\n",
        "  trainset = torchvision.datasets.CIFAR10(root='./data', train=True,\n",
        "                                        download=True, transform=transform)\n",
        "  testset = torchvision.datasets.CIFAR10(root='./data', train=False,\n",
        "                                         download=True, transform=transform)\n",
        "  \n",
        "  \n",
        "  # Create train and validation splits\n",
        "  num_samples = len(trainset)\n",
        "  training_samples = int(num_samples*0.5+1)\n",
        "  validation_samples = num_samples - training_samples\n",
        "\n",
        "  training_data, validation_data = torch.utils.data.random_split(trainset, [training_samples, validation_samples])\n",
        "\n",
        "  # Initialize dataloaders\n",
        "\n",
        "  classes = ('plane', 'car', 'bird', 'cat',\n",
        "           'deer', 'dog', 'frog', 'horse', 'ship', 'truck')\n",
        "\n",
        "  train_loader = torch.utils.data.DataLoader(training_data, batch_size, shuffle=True)\n",
        "  val_loader = torch.utils.data.DataLoader(validation_data, test_batch_size, shuffle=False)\n",
        "  test_loader = torch.utils.data.DataLoader(testset, test_batch_size, shuffle=False)\n",
        "  \n",
        "  return train_loader, val_loader, test_loader"
      ],
      "metadata": {
        "id": "0RLkJaSg-CgB"
      },
      "execution_count": 41,
      "outputs": []
    },
    {
      "cell_type": "markdown",
      "source": [
        "Early Stopping:"
      ],
      "metadata": {
        "id": "Mz9l4pfC9sRz"
      }
    },
    {
      "cell_type": "code",
      "source": [
        "import numpy as np\n",
        "\n",
        "def main(batch_size=128, \n",
        "         device='cuda:0', \n",
        "         learning_rate=0.01, \n",
        "         weight_decay=0.000001, \n",
        "         momentum=0.9, \n",
        "         epochs=50, net = LeNet(), validation=0, cifar=False, augmentation=False, Notresnet=True):\n",
        "  \n",
        "  if cifar :\n",
        "    train_loader, val_loader, test_loader = get_data_cifar(batch_size, augmentation=augmentation, Notresnet=Notresnet)\n",
        "    \n",
        "\n",
        "  else:\n",
        "    train_loader, val_loader, test_loader = get_data(batch_size)\n",
        "  \n",
        "  # TODO for defining LeNet-5 \n",
        "  net = net.to(device)\n",
        "  \n",
        "  optimizer = get_optimizer(net, learning_rate, weight_decay, momentum)\n",
        "  \n",
        "  cost_function = get_cost_function()\n",
        "\n",
        "  print('Before training:')\n",
        "  train_loss, train_accuracy = test(net, train_loader, cost_function)\n",
        "  val_loss, val_accuracy = test(net, val_loader, cost_function)\n",
        "  test_loss, test_accuracy = test(net, test_loader, cost_function)\n",
        "\n",
        "  print('\\t Training loss {:.5f}, Training accuracy {:.2f}'.format(train_loss, train_accuracy))\n",
        "  print('\\t Validation loss {:.5f}, Validation accuracy {:.2f}'.format(val_loss, val_accuracy))\n",
        "  print('\\t Test loss {:.5f}, Test accuracy {:.2f}'.format(test_loss, test_accuracy))\n",
        "  print('-----------------------------------------------------')\n",
        "\n",
        "  val_loss_old = 0\n",
        "  k = 0\n",
        "  for e in range(epochs):\n",
        "    train_loss, train_accuracy = train(net, train_loader, optimizer, cost_function)\n",
        "    \n",
        "    #############   EARLY START #############\n",
        "    while k != 0: \n",
        "      if np.abs(val_loss_old-val_loss) < 1e-5:\n",
        "        k+=1\n",
        "      else:\n",
        "        k = 0\n",
        "      val_loss_old = val_loss\n",
        "    if (k==validation and k!=0):\n",
        "      break\n",
        "                  ##############\n",
        "                  \n",
        "    val_loss, val_accuracy = test(net, val_loader, cost_function)\n",
        "    print('Epoch: {:d}'.format(e+1))\n",
        "    print('\\t Training loss {:.5f}, Training accuracy {:.2f}'.format(train_loss, train_accuracy))\n",
        "    print('\\t Validation loss {:.5f}, Validation accuracy {:.2f}'.format(val_loss, val_accuracy))\n",
        "    print('-----------------------------------------------------')\n",
        "\n",
        "  print('After training:')\n",
        "  train_loss, train_accuracy = test(net, train_loader, cost_function)\n",
        "  val_loss, val_accuracy = test(net, val_loader, cost_function)\n",
        "  test_loss, test_accuracy = test(net, test_loader, cost_function)\n",
        "\n",
        "  print('\\t Training loss {:.5f}, Training accuracy {:.2f}'.format(train_loss, train_accuracy))\n",
        "  print('\\t Validation loss {:.5f}, Validation accuracy {:.2f}'.format(val_loss, val_accuracy))\n",
        "  print('\\t Test loss {:.5f}, Test accuracy {:.2f}'.format(test_loss, test_accuracy))\n",
        "  print('-----------------------------------------------------')\n",
        "\n",
        "  return net"
      ],
      "metadata": {
        "id": "4tCmWW1_CsHt"
      },
      "execution_count": 42,
      "outputs": []
    },
    {
      "cell_type": "code",
      "source": [
        "LeNet5 = main(epochs=20, net= LeNet5, validation = 5, cifar=True)"
      ],
      "metadata": {
        "id": "AIpds2lo_a_R",
        "colab": {
          "base_uri": "https://localhost:8080/"
        },
        "outputId": "86441c90-3748-4216-996e-9c824d9f6686"
      },
      "execution_count": 30,
      "outputs": [
        {
          "output_type": "stream",
          "name": "stdout",
          "text": [
            "Files already downloaded and verified\n",
            "Files already downloaded and verified\n",
            "Before training:\n",
            "\t Training loss 0.01839, Training accuracy 9.10\n",
            "\t Validation loss 0.00920, Validation accuracy 8.75\n",
            "\t Test loss 0.00939, Test accuracy 8.83\n",
            "-----------------------------------------------------\n",
            "Epoch: 1\n",
            "\t Training loss 0.01780, Training accuracy 17.49\n",
            "\t Validation loss 0.00873, Validation accuracy 21.98\n",
            "-----------------------------------------------------\n",
            "Epoch: 2\n",
            "\t Training loss 0.01730, Training accuracy 24.24\n",
            "\t Validation loss 0.00858, Validation accuracy 26.15\n",
            "-----------------------------------------------------\n",
            "Epoch: 3\n",
            "\t Training loss 0.01703, Training accuracy 28.04\n",
            "\t Validation loss 0.00849, Validation accuracy 28.66\n",
            "-----------------------------------------------------\n",
            "Epoch: 4\n",
            "\t Training loss 0.01684, Training accuracy 30.73\n",
            "\t Validation loss 0.00840, Validation accuracy 31.03\n",
            "-----------------------------------------------------\n",
            "Epoch: 5\n",
            "\t Training loss 0.01665, Training accuracy 33.29\n",
            "\t Validation loss 0.00836, Validation accuracy 31.99\n",
            "-----------------------------------------------------\n",
            "Epoch: 6\n",
            "\t Training loss 0.01654, Training accuracy 34.82\n",
            "\t Validation loss 0.00831, Validation accuracy 33.36\n",
            "-----------------------------------------------------\n",
            "Epoch: 7\n",
            "\t Training loss 0.01643, Training accuracy 36.38\n",
            "\t Validation loss 0.00827, Validation accuracy 34.49\n",
            "-----------------------------------------------------\n",
            "Epoch: 8\n",
            "\t Training loss 0.01631, Training accuracy 37.90\n",
            "\t Validation loss 0.00823, Validation accuracy 35.57\n",
            "-----------------------------------------------------\n",
            "Epoch: 9\n",
            "\t Training loss 0.01615, Training accuracy 39.86\n",
            "\t Validation loss 0.00819, Validation accuracy 36.61\n",
            "-----------------------------------------------------\n",
            "Epoch: 10\n",
            "\t Training loss 0.01605, Training accuracy 41.00\n",
            "\t Validation loss 0.00812, Validation accuracy 38.25\n",
            "-----------------------------------------------------\n",
            "Epoch: 11\n",
            "\t Training loss 0.01597, Training accuracy 42.10\n",
            "\t Validation loss 0.00811, Validation accuracy 38.31\n",
            "-----------------------------------------------------\n",
            "Epoch: 12\n",
            "\t Training loss 0.01593, Training accuracy 42.63\n",
            "\t Validation loss 0.00814, Validation accuracy 37.90\n",
            "-----------------------------------------------------\n",
            "Epoch: 13\n",
            "\t Training loss 0.01584, Training accuracy 43.80\n",
            "\t Validation loss 0.00803, Validation accuracy 40.60\n",
            "-----------------------------------------------------\n",
            "Epoch: 14\n",
            "\t Training loss 0.01577, Training accuracy 44.73\n",
            "\t Validation loss 0.00803, Validation accuracy 40.64\n",
            "-----------------------------------------------------\n",
            "Epoch: 15\n",
            "\t Training loss 0.01572, Training accuracy 45.55\n",
            "\t Validation loss 0.00801, Validation accuracy 41.18\n",
            "-----------------------------------------------------\n",
            "Epoch: 16\n",
            "\t Training loss 0.01565, Training accuracy 46.47\n",
            "\t Validation loss 0.00800, Validation accuracy 41.38\n",
            "-----------------------------------------------------\n",
            "Epoch: 17\n",
            "\t Training loss 0.01560, Training accuracy 47.03\n",
            "\t Validation loss 0.00800, Validation accuracy 41.41\n",
            "-----------------------------------------------------\n",
            "Epoch: 18\n",
            "\t Training loss 0.01553, Training accuracy 47.93\n",
            "\t Validation loss 0.00798, Validation accuracy 42.02\n",
            "-----------------------------------------------------\n",
            "Epoch: 19\n",
            "\t Training loss 0.01551, Training accuracy 48.14\n",
            "\t Validation loss 0.00798, Validation accuracy 41.97\n",
            "-----------------------------------------------------\n",
            "Epoch: 20\n",
            "\t Training loss 0.01544, Training accuracy 49.18\n",
            "\t Validation loss 0.00795, Validation accuracy 42.81\n",
            "-----------------------------------------------------\n",
            "After training:\n",
            "\t Training loss 0.01530, Training accuracy 51.04\n",
            "\t Validation loss 0.00795, Validation accuracy 42.81\n",
            "\t Test loss 0.00813, Test accuracy 42.00\n",
            "-----------------------------------------------------\n"
          ]
        }
      ]
    },
    {
      "cell_type": "code",
      "source": [
        "\n",
        "mat = torch.zeros((10,10))\n",
        "train_loader, val_loader, test_loader = get_data_cifar(batch_size=128)\n",
        "for batch_idx, (inputs, targets) in enumerate(test_loader):\n",
        "  inputs = inputs.to('cuda:0')\n",
        "  targets = targets.to('cuda:0')\n",
        "    \n",
        "  outputs = torch.argmax(LeNet5(inputs), dim=1)\n",
        "\n",
        "  mat += confusion_matrix(outputs.detach().cpu(), targets.detach().cpu())\n",
        "\n",
        "\n",
        "mat = mat.detach().numpy().astype(int)\n",
        "\n",
        "disp = ConfusionMatrixDisplay(confusion_matrix=mat)\n",
        "\n",
        "disp.plot()\n",
        "plt.show()"
      ],
      "metadata": {
        "id": "nKXZVPo8SJU7",
        "colab": {
          "base_uri": "https://localhost:8080/",
          "height": 484
        },
        "outputId": "f479b1d6-1c91-4dbd-c7da-d1e6e8770eeb"
      },
      "execution_count": 47,
      "outputs": [
        {
          "output_type": "stream",
          "name": "stdout",
          "text": [
            "Files already downloaded and verified\n",
            "Files already downloaded and verified\n"
          ]
        },
        {
          "output_type": "display_data",
          "data": {
            "text/plain": [
              "<Figure size 640x480 with 2 Axes>"
            ],
            "image/png": "[encoded data removed]"
          },
          "metadata": {}
        }
      ]
    },
    {
      "cell_type": "code",
      "source": [
        "LeNet5_Dropout = torch.nn.Sequential(\n",
        "          torch.nn.Conv2d(1,6,5),\n",
        "          torch.nn.MaxPool2d(2),\n",
        "          torch.nn.Conv2d(6,16,5),\n",
        "          torch.nn.MaxPool2d(2),\n",
        "          torch.nn.Flatten(),\n",
        "          torch.nn.Linear(256,120),\n",
        "          torch.nn.Dropout(p=0.5),\n",
        "          torch.nn.ReLU(),\n",
        "          torch.nn.Linear(120,84),\n",
        "          torch.nn.Dropout(p=0.5),\n",
        "          torch.nn.ReLU(),\n",
        "          torch.nn.Linear(84,10),\n",
        "          torch.nn.Softmax(dim=1),\n",
        "        )"
      ],
      "metadata": {
        "id": "QlO36f6CSZhF"
      },
      "execution_count": 34,
      "outputs": []
    },
    {
      "cell_type": "code",
      "source": [
        "LeNet5_Dropout = main(epochs=20, net= LeNet5_Dropout, validation = 5, cifar=True, augmentation=True)"
      ],
      "metadata": {
        "colab": {
          "base_uri": "https://localhost:8080/"
        },
        "id": "B7t8su836hYu",
        "outputId": "8052e8f1-1e27-4d20-da67-197c179feea4"
      },
      "execution_count": 35,
      "outputs": [
        {
          "output_type": "stream",
          "name": "stdout",
          "text": [
            "Files already downloaded and verified\n",
            "Files already downloaded and verified\n",
            "Before training:\n",
            "\t Training loss 0.01805, Training accuracy 9.78\n",
            "\t Validation loss 0.00903, Validation accuracy 9.97\n",
            "\t Test loss 0.00921, Test accuracy 9.93\n",
            "-----------------------------------------------------\n",
            "Epoch: 1\n",
            "\t Training loss 0.01805, Training accuracy 10.57\n",
            "\t Validation loss 0.00903, Validation accuracy 13.02\n",
            "-----------------------------------------------------\n",
            "Epoch: 2\n",
            "\t Training loss 0.01805, Training accuracy 11.76\n",
            "\t Validation loss 0.00902, Validation accuracy 13.60\n",
            "-----------------------------------------------------\n",
            "Epoch: 3\n",
            "\t Training loss 0.01804, Training accuracy 12.88\n",
            "\t Validation loss 0.00902, Validation accuracy 13.52\n",
            "-----------------------------------------------------\n",
            "Epoch: 4\n",
            "\t Training loss 0.01802, Training accuracy 13.88\n",
            "\t Validation loss 0.00899, Validation accuracy 15.15\n",
            "-----------------------------------------------------\n",
            "Epoch: 5\n",
            "\t Training loss 0.01793, Training accuracy 14.36\n",
            "\t Validation loss 0.00893, Validation accuracy 14.74\n",
            "-----------------------------------------------------\n",
            "Epoch: 6\n",
            "\t Training loss 0.01785, Training accuracy 15.48\n",
            "\t Validation loss 0.00887, Validation accuracy 18.68\n",
            "-----------------------------------------------------\n",
            "Epoch: 7\n",
            "\t Training loss 0.01776, Training accuracy 17.03\n",
            "\t Validation loss 0.00882, Validation accuracy 19.26\n",
            "-----------------------------------------------------\n",
            "Epoch: 8\n",
            "\t Training loss 0.01768, Training accuracy 18.65\n",
            "\t Validation loss 0.00877, Validation accuracy 20.85\n",
            "-----------------------------------------------------\n",
            "Epoch: 9\n",
            "\t Training loss 0.01762, Training accuracy 19.51\n",
            "\t Validation loss 0.00875, Validation accuracy 21.12\n",
            "-----------------------------------------------------\n",
            "Epoch: 10\n",
            "\t Training loss 0.01757, Training accuracy 20.15\n",
            "\t Validation loss 0.00872, Validation accuracy 21.93\n",
            "-----------------------------------------------------\n",
            "Epoch: 11\n",
            "\t Training loss 0.01754, Training accuracy 20.74\n",
            "\t Validation loss 0.00871, Validation accuracy 22.48\n",
            "-----------------------------------------------------\n",
            "Epoch: 12\n",
            "\t Training loss 0.01750, Training accuracy 21.28\n",
            "\t Validation loss 0.00871, Validation accuracy 22.38\n",
            "-----------------------------------------------------\n",
            "Epoch: 13\n",
            "\t Training loss 0.01748, Training accuracy 21.24\n",
            "\t Validation loss 0.00868, Validation accuracy 23.00\n",
            "-----------------------------------------------------\n",
            "Epoch: 14\n",
            "\t Training loss 0.01744, Training accuracy 22.32\n",
            "\t Validation loss 0.00866, Validation accuracy 23.88\n",
            "-----------------------------------------------------\n",
            "Epoch: 15\n",
            "\t Training loss 0.01741, Training accuracy 22.43\n",
            "\t Validation loss 0.00863, Validation accuracy 24.64\n",
            "-----------------------------------------------------\n",
            "Epoch: 16\n",
            "\t Training loss 0.01738, Training accuracy 22.99\n",
            "\t Validation loss 0.00861, Validation accuracy 25.08\n",
            "-----------------------------------------------------\n",
            "Epoch: 17\n",
            "\t Training loss 0.01733, Training accuracy 23.73\n",
            "\t Validation loss 0.00859, Validation accuracy 25.89\n",
            "-----------------------------------------------------\n",
            "Epoch: 18\n",
            "\t Training loss 0.01728, Training accuracy 24.40\n",
            "\t Validation loss 0.00857, Validation accuracy 26.04\n",
            "-----------------------------------------------------\n",
            "Epoch: 19\n",
            "\t Training loss 0.01727, Training accuracy 24.55\n",
            "\t Validation loss 0.00856, Validation accuracy 26.63\n",
            "-----------------------------------------------------\n",
            "Epoch: 20\n",
            "\t Training loss 0.01724, Training accuracy 25.16\n",
            "\t Validation loss 0.00854, Validation accuracy 26.95\n",
            "-----------------------------------------------------\n",
            "After training:\n",
            "\t Training loss 0.01706, Training accuracy 27.38\n",
            "\t Validation loss 0.00854, Validation accuracy 27.07\n",
            "\t Test loss 0.00869, Test accuracy 27.46\n",
            "-----------------------------------------------------\n"
          ]
        }
      ]
    },
    {
      "cell_type": "code",
      "source": [
        "mat = torch.zeros((10,10))\n",
        "train_loader, val_loader, test_loader = get_data_cifar(batch_size=128)\n",
        "for batch_idx, (inputs, targets) in enumerate(test_loader):\n",
        "  inputs = inputs.to('cuda:0')\n",
        "  targets = targets.to('cuda:0')\n",
        "    \n",
        "  outputs = torch.argmax(LeNet5_Dropout(inputs), dim=1)\n",
        "\n",
        "  mat += confusion_matrix(outputs.detach().cpu(), targets.detach().cpu())\n",
        "\n",
        "\n",
        "mat = mat.detach().numpy().astype(int)\n",
        "\n",
        "disp = ConfusionMatrixDisplay(confusion_matrix=mat)\n",
        "\n",
        "disp.plot()\n",
        "plt.show()"
      ],
      "metadata": {
        "colab": {
          "base_uri": "https://localhost:8080/",
          "height": 269
        },
        "id": "kTwVN6KP6sS2",
        "outputId": "252420a4-bd44-40bb-9bb5-a32845a42057"
      },
      "execution_count": 49,
      "outputs": [
        {
          "output_type": "stream",
          "name": "stdout",
          "text": [
            "Files already downloaded and verified\n",
            "Files already downloaded and verified\n"
          ]
        },
        {
          "output_type": "error",
          "ename": "ValueError",
          "evalue": "ignored",
          "traceback": [
            "\u001b[0;31m---------------------------------------------------------------------------\u001b[0m",
            "\u001b[0;31mValueError\u001b[0m                                Traceback (most recent call last)",
            "\u001b[0;32m<ipython-input-49-056bd21c3e82>\u001b[0m in \u001b[0;36m<cell line: 3>\u001b[0;34m()\u001b[0m\n\u001b[1;32m      7\u001b[0m   \u001b[0moutputs\u001b[0m \u001b[0;34m=\u001b[0m \u001b[0mtorch\u001b[0m\u001b[0;34m.\u001b[0m\u001b[0margmax\u001b[0m\u001b[0;34m(\u001b[0m\u001b[0mLeNet5_Dropout\u001b[0m\u001b[0;34m(\u001b[0m\u001b[0minputs\u001b[0m\u001b[0;34m)\u001b[0m\u001b[0;34m,\u001b[0m \u001b[0mdim\u001b[0m\u001b[0;34m=\u001b[0m\u001b[0;36m1\u001b[0m\u001b[0;34m)\u001b[0m\u001b[0;34m\u001b[0m\u001b[0;34m\u001b[0m\u001b[0m\n\u001b[1;32m      8\u001b[0m \u001b[0;34m\u001b[0m\u001b[0m\n\u001b[0;32m----> 9\u001b[0;31m   \u001b[0mmat\u001b[0m \u001b[0;34m+=\u001b[0m \u001b[0mconfusion_matrix\u001b[0m\u001b[0;34m(\u001b[0m\u001b[0moutputs\u001b[0m\u001b[0;34m.\u001b[0m\u001b[0mdetach\u001b[0m\u001b[0;34m(\u001b[0m\u001b[0;34m)\u001b[0m\u001b[0;34m.\u001b[0m\u001b[0mcpu\u001b[0m\u001b[0;34m(\u001b[0m\u001b[0;34m)\u001b[0m\u001b[0;34m,\u001b[0m \u001b[0mtargets\u001b[0m\u001b[0;34m.\u001b[0m\u001b[0mdetach\u001b[0m\u001b[0;34m(\u001b[0m\u001b[0;34m)\u001b[0m\u001b[0;34m.\u001b[0m\u001b[0mcpu\u001b[0m\u001b[0;34m(\u001b[0m\u001b[0;34m)\u001b[0m\u001b[0;34m)\u001b[0m\u001b[0;34m\u001b[0m\u001b[0;34m\u001b[0m\u001b[0m\n\u001b[0m\u001b[1;32m     10\u001b[0m \u001b[0;34m\u001b[0m\u001b[0m\n\u001b[1;32m     11\u001b[0m \u001b[0;34m\u001b[0m\u001b[0m\n",
            "\u001b[0;31mValueError\u001b[0m: operands could not be broadcast together with shapes (10,10) (9,9) "
          ]
        }
      ]
    },
    {
      "cell_type": "markdown",
      "source": [
        "Here applying the dropout and the data augmentation does not seem to improve the results, but it might be because of the low number of epochs. "
      ],
      "metadata": {
        "id": "OeqKMhR07nkw"
      }
    },
    {
      "cell_type": "code",
      "source": [
        "from torchvision.models import resnet18\n",
        "\n",
        "resnet18 = resnet18(pretrained=True)\n",
        "\n",
        "resnet18"
      ],
      "metadata": {
        "colab": {
          "base_uri": "https://localhost:8080/"
        },
        "id": "_JxugUTo-j--",
        "outputId": "103a8739-b2fc-4bd7-87eb-5b90f17629bf"
      },
      "execution_count": 38,
      "outputs": [
        {
          "output_type": "stream",
          "name": "stderr",
          "text": [
            "/usr/local/lib/python3.10/dist-packages/torchvision/models/_utils.py:208: UserWarning: The parameter 'pretrained' is deprecated since 0.13 and may be removed in the future, please use 'weights' instead.\n",
            "  warnings.warn(\n",
            "/usr/local/lib/python3.10/dist-packages/torchvision/models/_utils.py:223: UserWarning: Arguments other than a weight enum or `None` for 'weights' are deprecated since 0.13 and may be removed in the future. The current behavior is equivalent to passing `weights=ResNet18_Weights.IMAGENET1K_V1`. You can also use `weights=ResNet18_Weights.DEFAULT` to get the most up-to-date weights.\n",
            "  warnings.warn(msg)\n",
            "Downloading: \"https://download.pytorch.org/models/resnet18-f37072fd.pth\" to /root/.cache/torch/hub/checkpoints/resnet18-f37072fd.pth\n",
            "100%|██████████| 44.7M/44.7M [00:00<00:00, 260MB/s]\n"
          ]
        },
        {
          "output_type": "execute_result",
          "data": {
            "text/plain": [
              "ResNet(\n",
              "  (conv1): Conv2d(3, 64, kernel_size=(7, 7), stride=(2, 2), padding=(3, 3), bias=False)\n",
              "  (bn1): BatchNorm2d(64, eps=1e-05, momentum=0.1, affine=True, track_running_stats=True)\n",
              "  (relu): ReLU(inplace=True)\n",
              "  (maxpool): MaxPool2d(kernel_size=3, stride=2, padding=1, dilation=1, ceil_mode=False)\n",
              "  (layer1): Sequential(\n",
              "    (0): BasicBlock(\n",
              "      (conv1): Conv2d(64, 64, kernel_size=(3, 3), stride=(1, 1), padding=(1, 1), bias=False)\n",
              "      (bn1): BatchNorm2d(64, eps=1e-05, momentum=0.1, affine=True, track_running_stats=True)\n",
              "      (relu): ReLU(inplace=True)\n",
              "      (conv2): Conv2d(64, 64, kernel_size=(3, 3), stride=(1, 1), padding=(1, 1), bias=False)\n",
              "      (bn2): BatchNorm2d(64, eps=1e-05, momentum=0.1, affine=True, track_running_stats=True)\n",
              "    )\n",
              "    (1): BasicBlock(\n",
              "      (conv1): Conv2d(64, 64, kernel_size=(3, 3), stride=(1, 1), padding=(1, 1), bias=False)\n",
              "      (bn1): BatchNorm2d(64, eps=1e-05, momentum=0.1, affine=True, track_running_stats=True)\n",
              "      (relu): ReLU(inplace=True)\n",
              "      (conv2): Conv2d(64, 64, kernel_size=(3, 3), stride=(1, 1), padding=(1, 1), bias=False)\n",
              "      (bn2): BatchNorm2d(64, eps=1e-05, momentum=0.1, affine=True, track_running_stats=True)\n",
              "    )\n",
              "  )\n",
              "  (layer2): Sequential(\n",
              "    (0): BasicBlock(\n",
              "      (conv1): Conv2d(64, 128, kernel_size=(3, 3), stride=(2, 2), padding=(1, 1), bias=False)\n",
              "      (bn1): BatchNorm2d(128, eps=1e-05, momentum=0.1, affine=True, track_running_stats=True)\n",
              "      (relu): ReLU(inplace=True)\n",
              "      (conv2): Conv2d(128, 128, kernel_size=(3, 3), stride=(1, 1), padding=(1, 1), bias=False)\n",
              "      (bn2): BatchNorm2d(128, eps=1e-05, momentum=0.1, affine=True, track_running_stats=True)\n",
              "      (downsample): Sequential(\n",
              "        (0): Conv2d(64, 128, kernel_size=(1, 1), stride=(2, 2), bias=False)\n",
              "        (1): BatchNorm2d(128, eps=1e-05, momentum=0.1, affine=True, track_running_stats=True)\n",
              "      )\n",
              "    )\n",
              "    (1): BasicBlock(\n",
              "      (conv1): Conv2d(128, 128, kernel_size=(3, 3), stride=(1, 1), padding=(1, 1), bias=False)\n",
              "      (bn1): BatchNorm2d(128, eps=1e-05, momentum=0.1, affine=True, track_running_stats=True)\n",
              "      (relu): ReLU(inplace=True)\n",
              "      (conv2): Conv2d(128, 128, kernel_size=(3, 3), stride=(1, 1), padding=(1, 1), bias=False)\n",
              "      (bn2): BatchNorm2d(128, eps=1e-05, momentum=0.1, affine=True, track_running_stats=True)\n",
              "    )\n",
              "  )\n",
              "  (layer3): Sequential(\n",
              "    (0): BasicBlock(\n",
              "      (conv1): Conv2d(128, 256, kernel_size=(3, 3), stride=(2, 2), padding=(1, 1), bias=False)\n",
              "      (bn1): BatchNorm2d(256, eps=1e-05, momentum=0.1, affine=True, track_running_stats=True)\n",
              "      (relu): ReLU(inplace=True)\n",
              "      (conv2): Conv2d(256, 256, kernel_size=(3, 3), stride=(1, 1), padding=(1, 1), bias=False)\n",
              "      (bn2): BatchNorm2d(256, eps=1e-05, momentum=0.1, affine=True, track_running_stats=True)\n",
              "      (downsample): Sequential(\n",
              "        (0): Conv2d(128, 256, kernel_size=(1, 1), stride=(2, 2), bias=False)\n",
              "        (1): BatchNorm2d(256, eps=1e-05, momentum=0.1, affine=True, track_running_stats=True)\n",
              "      )\n",
              "    )\n",
              "    (1): BasicBlock(\n",
              "      (conv1): Conv2d(256, 256, kernel_size=(3, 3), stride=(1, 1), padding=(1, 1), bias=False)\n",
              "      (bn1): BatchNorm2d(256, eps=1e-05, momentum=0.1, affine=True, track_running_stats=True)\n",
              "      (relu): ReLU(inplace=True)\n",
              "      (conv2): Conv2d(256, 256, kernel_size=(3, 3), stride=(1, 1), padding=(1, 1), bias=False)\n",
              "      (bn2): BatchNorm2d(256, eps=1e-05, momentum=0.1, affine=True, track_running_stats=True)\n",
              "    )\n",
              "  )\n",
              "  (layer4): Sequential(\n",
              "    (0): BasicBlock(\n",
              "      (conv1): Conv2d(256, 512, kernel_size=(3, 3), stride=(2, 2), padding=(1, 1), bias=False)\n",
              "      (bn1): BatchNorm2d(512, eps=1e-05, momentum=0.1, affine=True, track_running_stats=True)\n",
              "      (relu): ReLU(inplace=True)\n",
              "      (conv2): Conv2d(512, 512, kernel_size=(3, 3), stride=(1, 1), padding=(1, 1), bias=False)\n",
              "      (bn2): BatchNorm2d(512, eps=1e-05, momentum=0.1, affine=True, track_running_stats=True)\n",
              "      (downsample): Sequential(\n",
              "        (0): Conv2d(256, 512, kernel_size=(1, 1), stride=(2, 2), bias=False)\n",
              "        (1): BatchNorm2d(512, eps=1e-05, momentum=0.1, affine=True, track_running_stats=True)\n",
              "      )\n",
              "    )\n",
              "    (1): BasicBlock(\n",
              "      (conv1): Conv2d(512, 512, kernel_size=(3, 3), stride=(1, 1), padding=(1, 1), bias=False)\n",
              "      (bn1): BatchNorm2d(512, eps=1e-05, momentum=0.1, affine=True, track_running_stats=True)\n",
              "      (relu): ReLU(inplace=True)\n",
              "      (conv2): Conv2d(512, 512, kernel_size=(3, 3), stride=(1, 1), padding=(1, 1), bias=False)\n",
              "      (bn2): BatchNorm2d(512, eps=1e-05, momentum=0.1, affine=True, track_running_stats=True)\n",
              "    )\n",
              "  )\n",
              "  (avgpool): AdaptiveAvgPool2d(output_size=(1, 1))\n",
              "  (fc): Linear(in_features=512, out_features=1000, bias=True)\n",
              ")"
            ]
          },
          "metadata": {},
          "execution_count": 38
        }
      ]
    },
    {
      "cell_type": "code",
      "source": [
        "resnet18.fc = torch.nn.Sequential(\n",
        "    torch.nn.Linear(512, 10),\n",
        "    torch.nn.Softmax(dim=1)) #To have the right number of features + a softmax at the end\n",
        "\n",
        "resnet18 = main(epochs=20, net= resnet18, validation = 5, cifar=True, Notresnet=False)"
      ],
      "metadata": {
        "id": "nnSAE66yix_T",
        "colab": {
          "base_uri": "https://localhost:8080/"
        },
        "outputId": "0ecefa07-8338-449c-a578-7d7db54f391f"
      },
      "execution_count": 44,
      "outputs": [
        {
          "output_type": "stream",
          "name": "stdout",
          "text": [
            "Files already downloaded and verified\n",
            "Files already downloaded and verified\n",
            "Before training:\n",
            "\t Training loss 0.01804, Training accuracy 10.84\n",
            "\t Validation loss 0.00902, Validation accuracy 10.60\n",
            "\t Test loss 0.00921, Test accuracy 10.98\n",
            "-----------------------------------------------------\n",
            "Epoch: 1\n",
            "\t Training loss 0.01496, Training accuracy 55.85\n",
            "\t Validation loss 0.00694, Validation accuracy 69.13\n",
            "-----------------------------------------------------\n",
            "Epoch: 2\n",
            "\t Training loss 0.01358, Training accuracy 72.93\n",
            "\t Validation loss 0.00684, Validation accuracy 71.60\n",
            "-----------------------------------------------------\n",
            "Epoch: 3\n",
            "\t Training loss 0.01331, Training accuracy 76.35\n",
            "\t Validation loss 0.00679, Validation accuracy 72.69\n",
            "-----------------------------------------------------\n",
            "Epoch: 4\n",
            "\t Training loss 0.01310, Training accuracy 79.05\n",
            "\t Validation loss 0.00674, Validation accuracy 74.15\n",
            "-----------------------------------------------------\n",
            "Epoch: 5\n",
            "\t Training loss 0.01297, Training accuracy 80.68\n",
            "\t Validation loss 0.00670, Validation accuracy 75.03\n",
            "-----------------------------------------------------\n",
            "Epoch: 6\n",
            "\t Training loss 0.01286, Training accuracy 82.10\n",
            "\t Validation loss 0.00666, Validation accuracy 76.07\n",
            "-----------------------------------------------------\n",
            "Epoch: 7\n",
            "\t Training loss 0.01283, Training accuracy 82.36\n",
            "\t Validation loss 0.00669, Validation accuracy 75.50\n",
            "-----------------------------------------------------\n",
            "Epoch: 8\n",
            "\t Training loss 0.01274, Training accuracy 83.52\n",
            "\t Validation loss 0.00665, Validation accuracy 76.08\n",
            "-----------------------------------------------------\n",
            "Epoch: 9\n",
            "\t Training loss 0.01259, Training accuracy 85.52\n",
            "\t Validation loss 0.00665, Validation accuracy 76.36\n",
            "-----------------------------------------------------\n",
            "Epoch: 10\n",
            "\t Training loss 0.01258, Training accuracy 85.58\n",
            "\t Validation loss 0.00660, Validation accuracy 77.66\n",
            "-----------------------------------------------------\n",
            "Epoch: 11\n",
            "\t Training loss 0.01253, Training accuracy 86.33\n",
            "\t Validation loss 0.00663, Validation accuracy 76.98\n",
            "-----------------------------------------------------\n",
            "Epoch: 12\n",
            "\t Training loss 0.01248, Training accuracy 86.88\n",
            "\t Validation loss 0.00663, Validation accuracy 76.77\n",
            "-----------------------------------------------------\n",
            "Epoch: 13\n",
            "\t Training loss 0.01240, Training accuracy 88.10\n",
            "\t Validation loss 0.00662, Validation accuracy 77.20\n",
            "-----------------------------------------------------\n",
            "Epoch: 14\n",
            "\t Training loss 0.01239, Training accuracy 88.09\n",
            "\t Validation loss 0.00663, Validation accuracy 76.71\n",
            "-----------------------------------------------------\n",
            "Epoch: 15\n",
            "\t Training loss 0.01231, Training accuracy 89.13\n",
            "\t Validation loss 0.00658, Validation accuracy 78.12\n",
            "-----------------------------------------------------\n",
            "Epoch: 16\n",
            "\t Training loss 0.01226, Training accuracy 89.81\n",
            "\t Validation loss 0.00657, Validation accuracy 78.33\n",
            "-----------------------------------------------------\n",
            "Epoch: 17\n",
            "\t Training loss 0.01222, Training accuracy 90.40\n",
            "\t Validation loss 0.00657, Validation accuracy 78.30\n",
            "-----------------------------------------------------\n",
            "Epoch: 18\n",
            "\t Training loss 0.01219, Training accuracy 90.61\n",
            "\t Validation loss 0.00659, Validation accuracy 77.96\n",
            "-----------------------------------------------------\n",
            "Epoch: 19\n",
            "\t Training loss 0.01218, Training accuracy 90.72\n",
            "\t Validation loss 0.00657, Validation accuracy 78.48\n",
            "-----------------------------------------------------\n",
            "Epoch: 20\n",
            "\t Training loss 0.01215, Training accuracy 91.10\n",
            "\t Validation loss 0.00657, Validation accuracy 78.50\n",
            "-----------------------------------------------------\n",
            "After training:\n",
            "\t Training loss 0.01201, Training accuracy 93.00\n",
            "\t Validation loss 0.00657, Validation accuracy 78.50\n",
            "\t Test loss 0.00671, Test accuracy 78.64\n",
            "-----------------------------------------------------\n"
          ]
        }
      ]
    },
    {
      "cell_type": "code",
      "source": [],
      "metadata": {
        "id": "6g3S_7BX-trQ"
      },
      "execution_count": null,
      "outputs": []
    }
  ],
  "metadata": {
    "colab": {
      "provenance": [],
      "gpuType": "T4"
    },
    "kernelspec": {
      "display_name": "Python 3 (ipykernel)",
      "language": "python",
      "name": "python3"
    },
    "language_info": {
      "codemirror_mode": {
        "name": "ipython",
        "version": 3
      },
      "file_extension": ".py",
      "mimetype": "text/x-python",
      "name": "python",
      "nbconvert_exporter": "python",
      "pygments_lexer": "ipython3",
      "version": "3.9.13"
    },
    "accelerator": "GPU",
    "gpuClass": "standard"
  },
  "nbformat": 4,
  "nbformat_minor": 0
}