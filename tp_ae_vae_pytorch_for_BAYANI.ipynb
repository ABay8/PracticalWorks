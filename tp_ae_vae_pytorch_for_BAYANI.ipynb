{
  "nbformat": 4,
  "nbformat_minor": 0,
  "metadata": {
    "colab": {
      "provenance": [],
      "collapsed_sections": [
        "t-bkK4ktwfvC",
        "zO9ATQEiyr3b",
        "x2M1-BRmf56d",
        "8UqeNhuSdnDt"
      ]
    },
    "kernelspec": {
      "name": "python3",
      "display_name": "Python 3"
    },
    "language_info": {
      "name": "python"
    },
    "accelerator": "GPU"
  },
  "cells": [
    {
      "cell_type": "markdown",
      "metadata": {
        "id": "TdpPHz2Lp6VD"
      },
      "source": [
        "# TP Coding autoencoders and variational autoencoders in Pytorch\n",
        "\n",
        "\n",
        "Author : Alasdair Newson\n",
        "\n",
        "alasdair.newson@telecom-paris.fr\n",
        "\n",
        "## Objective:\n",
        "\n",
        "The goal of this TP is to explore autoencoders and variational autoencoders applied to a simple dataset. In this first part, we will look at an autoencoder applied to MNIST. We recall that an autoencoder is a neural network with the following general architecture:\n",
        "\n",
        "\n",
        "![AUTOENCODER](https://perso.telecom-paristech.fr/anewson/doc/images/autoencoder_illustration_2.png)\n",
        "\n",
        "The tensor $z$ in the middle of the network is called a __latent code__, and it belongs to the latent space. It is this latent space which is interesting in autoencoders (for image synthesis, editing, etc).\n",
        "\n",
        "### Your task:\n",
        "You need to add the missing parts in the code (parts between # --- START CODE HERE and # --- END CODE HERE or # FILL IN CODE)\n",
        "\n",
        "\n",
        "First of all, let's load some packages"
      ]
    },
    {
      "cell_type": "code",
      "metadata": {
        "id": "JqNeIJ8Op8Ao"
      },
      "source": [
        "import torch\n",
        "import torch.nn as nn\n",
        "import torch.nn.functional as F\n",
        "import torch.optim as optim\n",
        "from torchvision import datasets, transforms\n",
        "from torch.autograd import Variable\n",
        "from torchvision.utils import save_image\n",
        "\n",
        "import pdb\n",
        "import numpy as np\n",
        "import matplotlib.pyplot as plt\n",
        "\n",
        "def pytorch_to_numpy(x):\n",
        "  return x.detach().numpy()"
      ],
      "execution_count": 1,
      "outputs": []
    },
    {
      "cell_type": "markdown",
      "metadata": {
        "id": "Hyj5dj_eui9D"
      },
      "source": [
        "First, we load the mnist dataset."
      ]
    },
    {
      "cell_type": "code",
      "metadata": {
        "id": "4YPLKlPrufSk",
        "colab": {
          "base_uri": "https://localhost:8080/"
        },
        "outputId": "85332ebc-26b3-4095-961a-21ebb5404618"
      },
      "source": [
        "\n",
        "batch_size = 128\n",
        "\n",
        "# MNIST Dataset\n",
        "mnist_trainset = datasets.MNIST(root='./mnist_data/', train=True, transform=transforms.ToTensor(), download=True)\n",
        "mnist_testset = datasets.MNIST(root='./mnist_data/', train=False, transform=transforms.ToTensor(), download=False)\n",
        "\n",
        "#create data loader with smaller dataset size\n",
        "max_mnist_size = 1000\n",
        "mnist_trainset_reduced = torch.utils.data.random_split(mnist_trainset, [max_mnist_size, len(mnist_trainset)-max_mnist_size])[0] \n",
        "mnist_train_loader = torch.utils.data.DataLoader(mnist_trainset_reduced, batch_size=batch_size, shuffle=True,drop_last=True)\n",
        "\n",
        "# download test dataset\n",
        "max_mnist_size = 512\n",
        "mnist_testset_reduced = torch.utils.data.random_split(mnist_testset, [max_mnist_size, len(mnist_testset)-max_mnist_size])[0] \n",
        "mnist_test_loader = torch.utils.data.DataLoader(mnist_testset_reduced, batch_size=batch_size, shuffle=True,drop_last=True)\n"
      ],
      "execution_count": 2,
      "outputs": [
        {
          "output_type": "stream",
          "name": "stdout",
          "text": [
            "Downloading http://yann.lecun.com/exdb/mnist/train-images-idx3-ubyte.gz\n",
            "Downloading http://yann.lecun.com/exdb/mnist/train-images-idx3-ubyte.gz to ./mnist_data/MNIST/raw/train-images-idx3-ubyte.gz\n"
          ]
        },
        {
          "output_type": "stream",
          "name": "stderr",
          "text": [
            "100%|██████████| 9912422/9912422 [00:00<00:00, 198659750.50it/s]\n"
          ]
        },
        {
          "output_type": "stream",
          "name": "stdout",
          "text": [
            "Extracting ./mnist_data/MNIST/raw/train-images-idx3-ubyte.gz to ./mnist_data/MNIST/raw\n",
            "\n",
            "Downloading http://yann.lecun.com/exdb/mnist/train-labels-idx1-ubyte.gz\n",
            "Downloading http://yann.lecun.com/exdb/mnist/train-labels-idx1-ubyte.gz to ./mnist_data/MNIST/raw/train-labels-idx1-ubyte.gz\n"
          ]
        },
        {
          "output_type": "stream",
          "name": "stderr",
          "text": [
            "100%|██████████| 28881/28881 [00:00<00:00, 94195718.37it/s]\n"
          ]
        },
        {
          "output_type": "stream",
          "name": "stdout",
          "text": [
            "Extracting ./mnist_data/MNIST/raw/train-labels-idx1-ubyte.gz to ./mnist_data/MNIST/raw\n",
            "\n",
            "Downloading http://yann.lecun.com/exdb/mnist/t10k-images-idx3-ubyte.gz\n",
            "Downloading http://yann.lecun.com/exdb/mnist/t10k-images-idx3-ubyte.gz to ./mnist_data/MNIST/raw/t10k-images-idx3-ubyte.gz\n"
          ]
        },
        {
          "output_type": "stream",
          "name": "stderr",
          "text": [
            "100%|██████████| 1648877/1648877 [00:00<00:00, 66830538.02it/s]"
          ]
        },
        {
          "output_type": "stream",
          "name": "stdout",
          "text": [
            "Extracting ./mnist_data/MNIST/raw/t10k-images-idx3-ubyte.gz to ./mnist_data/MNIST/raw\n"
          ]
        },
        {
          "output_type": "stream",
          "name": "stderr",
          "text": [
            "\n"
          ]
        },
        {
          "output_type": "stream",
          "name": "stdout",
          "text": [
            "\n",
            "Downloading http://yann.lecun.com/exdb/mnist/t10k-labels-idx1-ubyte.gz\n",
            "Downloading http://yann.lecun.com/exdb/mnist/t10k-labels-idx1-ubyte.gz to ./mnist_data/MNIST/raw/t10k-labels-idx1-ubyte.gz\n"
          ]
        },
        {
          "output_type": "stream",
          "name": "stderr",
          "text": [
            "100%|██████████| 4542/4542 [00:00<00:00, 5375431.37it/s]\n"
          ]
        },
        {
          "output_type": "stream",
          "name": "stdout",
          "text": [
            "Extracting ./mnist_data/MNIST/raw/t10k-labels-idx1-ubyte.gz to ./mnist_data/MNIST/raw\n",
            "\n"
          ]
        }
      ]
    },
    {
      "cell_type": "code",
      "source": [
        "mnist_trainset_reduced.dataset.train_data.shape"
      ],
      "metadata": {
        "id": "r7YhlBT2PN9I",
        "colab": {
          "base_uri": "https://localhost:8080/"
        },
        "outputId": "9acf7e54-5827-4cab-fa92-ae9af52c6701"
      },
      "execution_count": 3,
      "outputs": [
        {
          "output_type": "stream",
          "name": "stderr",
          "text": [
            "/usr/local/lib/python3.10/dist-packages/torchvision/datasets/mnist.py:75: UserWarning: train_data has been renamed data\n",
            "  warnings.warn(\"train_data has been renamed data\")\n"
          ]
        },
        {
          "output_type": "execute_result",
          "data": {
            "text/plain": [
              "torch.Size([60000, 28, 28])"
            ]
          },
          "metadata": {},
          "execution_count": 3
        }
      ]
    },
    {
      "cell_type": "markdown",
      "metadata": {
        "id": "t-bkK4ktwfvC"
      },
      "source": [
        "# 1 Vanilla Autoencoder\n",
        "\n",
        "Now, we define the general parameters of the autoencoder"
      ]
    },
    {
      "cell_type": "code",
      "metadata": {
        "id": "mD56EDzbvUxq"
      },
      "source": [
        "# autoencoder parameters\n",
        "n_rows = mnist_trainset_reduced.dataset.train_data.shape[1]\n",
        "n_cols = mnist_trainset_reduced.dataset.train_data.shape[2]\n",
        "n_channels = 1\n",
        "n_pixels = n_rows*n_cols\n",
        "\n",
        "img_shape = (n_rows, n_cols, n_channels)\n",
        "n_epochs = 150"
      ],
      "execution_count": 4,
      "outputs": []
    },
    {
      "cell_type": "markdown",
      "metadata": {
        "id": "6jLa2-jQwxSI"
      },
      "source": [
        "Now, define the autoencoder architecture. In the first part, we will use the following MLP architecture :\n",
        "\n",
        "Encoder :\n",
        "- Flatten input\n",
        "- Dense layer, output size h_dim_1 + ReLU\n",
        "- Dense layer, output size h_dim_2 + ReLU\n",
        "- Dense layer, output size z_dim (no non-linearity)\n",
        "\n",
        "Decoder :\n",
        "- Dense layer, output size h_dim_2 + ReLU\n",
        "- Dense layer, output size h_dim_1 + ReLU\n",
        "- Dense layer, output size x_dim + Sigmoid Activation\n",
        "- Reshape, to size $28\\times 28\\times 1$\n",
        "\n",
        "For the Reshape operation, use the ```A.view(dim_1,dim_2,...)``` function, where ```A``` is your tensor."
      ]
    },
    {
      "cell_type": "code",
      "source": [
        "class AE(torch.nn.Module ):\n",
        "  def __init__(self, x_dim, h_dim1, h_dim2, z_dim,n_rows,n_cols,n_channels):\n",
        "    super(AE, self).__init__()\n",
        "\n",
        "    self.n_rows = n_rows\n",
        "    self.n_cols = n_cols\n",
        "    self.n_channels = n_channels\n",
        "    self.n_pixels = (self.n_rows)*(self.n_cols)\n",
        "    self.z_dim = z_dim\n",
        "\n",
        "    # encoder part\n",
        "    self.fc1 = nn.Linear(self.n_pixels, h_dim1) # FILL IN CODE HERE\n",
        "    self.fc2 = nn.Linear(h_dim1, h_dim2) # FILL IN CODE HERE\n",
        "    self.fc3 = nn.Linear(h_dim2, z_dim) # FILL IN CODE HERE\n",
        "    # decoder part\n",
        "    self.fc4 = nn.Linear(z_dim, h_dim2) # FILL IN CODE HERE\n",
        "    self.fc5 = nn.Linear(h_dim2, h_dim1) # FILL IN CODE HERE\n",
        "    self.fc6 = nn.Linear(h_dim1, x_dim) # FILL IN CODE HERE\n",
        "\n",
        "  def encoder(self, x):\n",
        "    h = F.relu(self.fc1(x.view(-1, n_pixels))) # FILL IN CODE HERE\n",
        "    h = F.relu(self.fc2(h)) # FILL IN CODE HERE\n",
        "    return self.fc3(h) # FILL IN CODE HERE\n",
        "\n",
        "  def decoder(self, z):\n",
        "    h = F.relu(self.fc4(z)) # FILL IN CODE HERE\n",
        "    h = F.relu(self.fc5(h)) # FILL IN CODE HERE\n",
        "    return F.sigmoid(self.fc6(h)).view(-1, 1, n_rows, n_cols) # FILL IN CODE HERE\n",
        "\n",
        "  def forward(self, x):\n",
        "    y = self.decoder(self.encoder(x)) # FILL IN CODE HERE\n",
        "    return(y)\n",
        "\n",
        "  def loss_function(self,x, y):\n",
        "    bce_loss = nn.BCELoss()(y, x) # FILL IN CODE HERE\n",
        "    return torch.mean(bce_loss)"
      ],
      "metadata": {
        "id": "tEuZfnUlXxMl"
      },
      "execution_count": 5,
      "outputs": []
    },
    {
      "cell_type": "code",
      "source": [
        "# create model\n",
        "ae_dim_1 = 512\n",
        "ae_dim_2 = 256\n",
        "z_dim = 10\n",
        "ae_model = AE(x_dim=n_pixels, h_dim1= ae_dim_1, h_dim2=ae_dim_2, z_dim=z_dim,n_rows=n_rows,n_cols=n_cols,n_channels=n_channels)\n",
        "ae_optimizer = optim.Adam(ae_model.parameters())"
      ],
      "metadata": {
        "id": "oV40vRMQRoG1"
      },
      "execution_count": 6,
      "outputs": []
    },
    {
      "cell_type": "markdown",
      "metadata": {
        "id": "-659aM36xvXX"
      },
      "source": [
        "Now, define a generic function to train the model for one epoch"
      ]
    },
    {
      "cell_type": "code",
      "metadata": {
        "id": "wfqX6Brlxjyi"
      },
      "source": [
        "def train_ae(ae_model,data_train_loader,epoch):\n",
        "\ttrain_loss = 0\n",
        "\tfor batch_idx, (data, _) in enumerate(data_train_loader):\n",
        "\t\tae_optimizer.zero_grad()\n",
        "\t\t\n",
        "\t\ty = ae_model.forward(data) # FILL IN CODE HERE\n",
        "\t\tloss_ae = ae_model.loss_function(data, y) # FILL IN CODE HERE\n",
        "  \n",
        "\t\tloss_ae.backward()\n",
        "\t\ttrain_loss += loss_ae.item()\n",
        "\t\tae_optimizer.step()\n",
        "\t\t\n",
        "\t\tif batch_idx % 100 == 0:\n",
        "\t\t\tprint('Train Epoch: {} [{}/{} ({:.0f}%)]\\tLoss: {:.6f}'.format(\n",
        "\t\t\t\tepoch, batch_idx * len(data), len(data_train_loader.dataset),\n",
        "\t\t\t\t100. * batch_idx / len(data_train_loader), loss_ae.item() / len(data)))\n",
        "\tprint('====> Epoch: {} Average loss: {:.4f}'.format(epoch, train_loss / len(data_train_loader.dataset)))\n"
      ],
      "execution_count": 7,
      "outputs": []
    },
    {
      "cell_type": "markdown",
      "metadata": {
        "id": "w3EbmswSzJdK"
      },
      "source": [
        "We define a function to carry out testing on the autoencoder model"
      ]
    },
    {
      "cell_type": "code",
      "source": [
        "for epoch in range(0, n_epochs):\n",
        "  train_ae(ae_model,mnist_train_loader,epoch)"
      ],
      "metadata": {
        "id": "11q_0PSibZk-",
        "colab": {
          "base_uri": "https://localhost:8080/"
        },
        "outputId": "41a71657-a487-44b5-9107-84454f8908b5"
      },
      "execution_count": 8,
      "outputs": [
        {
          "output_type": "stream",
          "name": "stdout",
          "text": [
            "Train Epoch: 0 [0/1000 (0%)]\tLoss: 0.005419\n",
            "====> Epoch: 0 Average loss: 0.0043\n",
            "Train Epoch: 1 [0/1000 (0%)]\tLoss: 0.003008\n",
            "====> Epoch: 1 Average loss: 0.0024\n",
            "Train Epoch: 2 [0/1000 (0%)]\tLoss: 0.002200\n",
            "====> Epoch: 2 Average loss: 0.0020\n",
            "Train Epoch: 3 [0/1000 (0%)]\tLoss: 0.002207\n",
            "====> Epoch: 3 Average loss: 0.0019\n",
            "Train Epoch: 4 [0/1000 (0%)]\tLoss: 0.002022\n",
            "====> Epoch: 4 Average loss: 0.0019\n",
            "Train Epoch: 5 [0/1000 (0%)]\tLoss: 0.002048\n",
            "====> Epoch: 5 Average loss: 0.0018\n",
            "Train Epoch: 6 [0/1000 (0%)]\tLoss: 0.002015\n",
            "====> Epoch: 6 Average loss: 0.0018\n",
            "Train Epoch: 7 [0/1000 (0%)]\tLoss: 0.002023\n",
            "====> Epoch: 7 Average loss: 0.0018\n",
            "Train Epoch: 8 [0/1000 (0%)]\tLoss: 0.001938\n",
            "====> Epoch: 8 Average loss: 0.0018\n",
            "Train Epoch: 9 [0/1000 (0%)]\tLoss: 0.001955\n",
            "====> Epoch: 9 Average loss: 0.0018\n",
            "Train Epoch: 10 [0/1000 (0%)]\tLoss: 0.001909\n",
            "====> Epoch: 10 Average loss: 0.0017\n",
            "Train Epoch: 11 [0/1000 (0%)]\tLoss: 0.001915\n",
            "====> Epoch: 11 Average loss: 0.0017\n",
            "Train Epoch: 12 [0/1000 (0%)]\tLoss: 0.001868\n",
            "====> Epoch: 12 Average loss: 0.0017\n",
            "Train Epoch: 13 [0/1000 (0%)]\tLoss: 0.001868\n",
            "====> Epoch: 13 Average loss: 0.0016\n",
            "Train Epoch: 14 [0/1000 (0%)]\tLoss: 0.001826\n",
            "====> Epoch: 14 Average loss: 0.0016\n",
            "Train Epoch: 15 [0/1000 (0%)]\tLoss: 0.001755\n",
            "====> Epoch: 15 Average loss: 0.0016\n",
            "Train Epoch: 16 [0/1000 (0%)]\tLoss: 0.001719\n",
            "====> Epoch: 16 Average loss: 0.0015\n",
            "Train Epoch: 17 [0/1000 (0%)]\tLoss: 0.001693\n",
            "====> Epoch: 17 Average loss: 0.0015\n",
            "Train Epoch: 18 [0/1000 (0%)]\tLoss: 0.001653\n",
            "====> Epoch: 18 Average loss: 0.0015\n",
            "Train Epoch: 19 [0/1000 (0%)]\tLoss: 0.001625\n",
            "====> Epoch: 19 Average loss: 0.0014\n",
            "Train Epoch: 20 [0/1000 (0%)]\tLoss: 0.001557\n",
            "====> Epoch: 20 Average loss: 0.0014\n",
            "Train Epoch: 21 [0/1000 (0%)]\tLoss: 0.001532\n",
            "====> Epoch: 21 Average loss: 0.0014\n",
            "Train Epoch: 22 [0/1000 (0%)]\tLoss: 0.001558\n",
            "====> Epoch: 22 Average loss: 0.0014\n",
            "Train Epoch: 23 [0/1000 (0%)]\tLoss: 0.001506\n",
            "====> Epoch: 23 Average loss: 0.0013\n",
            "Train Epoch: 24 [0/1000 (0%)]\tLoss: 0.001450\n",
            "====> Epoch: 24 Average loss: 0.0013\n",
            "Train Epoch: 25 [0/1000 (0%)]\tLoss: 0.001418\n",
            "====> Epoch: 25 Average loss: 0.0013\n",
            "Train Epoch: 26 [0/1000 (0%)]\tLoss: 0.001361\n",
            "====> Epoch: 26 Average loss: 0.0012\n",
            "Train Epoch: 27 [0/1000 (0%)]\tLoss: 0.001381\n",
            "====> Epoch: 27 Average loss: 0.0012\n",
            "Train Epoch: 28 [0/1000 (0%)]\tLoss: 0.001268\n",
            "====> Epoch: 28 Average loss: 0.0012\n",
            "Train Epoch: 29 [0/1000 (0%)]\tLoss: 0.001287\n",
            "====> Epoch: 29 Average loss: 0.0012\n",
            "Train Epoch: 30 [0/1000 (0%)]\tLoss: 0.001275\n",
            "====> Epoch: 30 Average loss: 0.0011\n",
            "Train Epoch: 31 [0/1000 (0%)]\tLoss: 0.001278\n",
            "====> Epoch: 31 Average loss: 0.0011\n",
            "Train Epoch: 32 [0/1000 (0%)]\tLoss: 0.001242\n",
            "====> Epoch: 32 Average loss: 0.0011\n",
            "Train Epoch: 33 [0/1000 (0%)]\tLoss: 0.001233\n",
            "====> Epoch: 33 Average loss: 0.0011\n",
            "Train Epoch: 34 [0/1000 (0%)]\tLoss: 0.001187\n",
            "====> Epoch: 34 Average loss: 0.0011\n",
            "Train Epoch: 35 [0/1000 (0%)]\tLoss: 0.001171\n",
            "====> Epoch: 35 Average loss: 0.0011\n",
            "Train Epoch: 36 [0/1000 (0%)]\tLoss: 0.001176\n",
            "====> Epoch: 36 Average loss: 0.0010\n",
            "Train Epoch: 37 [0/1000 (0%)]\tLoss: 0.001123\n",
            "====> Epoch: 37 Average loss: 0.0010\n",
            "Train Epoch: 38 [0/1000 (0%)]\tLoss: 0.001147\n",
            "====> Epoch: 38 Average loss: 0.0010\n",
            "Train Epoch: 39 [0/1000 (0%)]\tLoss: 0.001170\n",
            "====> Epoch: 39 Average loss: 0.0010\n",
            "Train Epoch: 40 [0/1000 (0%)]\tLoss: 0.001109\n",
            "====> Epoch: 40 Average loss: 0.0010\n",
            "Train Epoch: 41 [0/1000 (0%)]\tLoss: 0.001089\n",
            "====> Epoch: 41 Average loss: 0.0010\n",
            "Train Epoch: 42 [0/1000 (0%)]\tLoss: 0.001068\n",
            "====> Epoch: 42 Average loss: 0.0010\n",
            "Train Epoch: 43 [0/1000 (0%)]\tLoss: 0.001054\n",
            "====> Epoch: 43 Average loss: 0.0010\n",
            "Train Epoch: 44 [0/1000 (0%)]\tLoss: 0.001089\n",
            "====> Epoch: 44 Average loss: 0.0010\n",
            "Train Epoch: 45 [0/1000 (0%)]\tLoss: 0.001053\n",
            "====> Epoch: 45 Average loss: 0.0009\n",
            "Train Epoch: 46 [0/1000 (0%)]\tLoss: 0.001045\n",
            "====> Epoch: 46 Average loss: 0.0009\n",
            "Train Epoch: 47 [0/1000 (0%)]\tLoss: 0.001056\n",
            "====> Epoch: 47 Average loss: 0.0009\n",
            "Train Epoch: 48 [0/1000 (0%)]\tLoss: 0.001019\n",
            "====> Epoch: 48 Average loss: 0.0009\n",
            "Train Epoch: 49 [0/1000 (0%)]\tLoss: 0.001102\n",
            "====> Epoch: 49 Average loss: 0.0009\n",
            "Train Epoch: 50 [0/1000 (0%)]\tLoss: 0.000987\n",
            "====> Epoch: 50 Average loss: 0.0009\n",
            "Train Epoch: 51 [0/1000 (0%)]\tLoss: 0.000948\n",
            "====> Epoch: 51 Average loss: 0.0009\n",
            "Train Epoch: 52 [0/1000 (0%)]\tLoss: 0.001004\n",
            "====> Epoch: 52 Average loss: 0.0009\n",
            "Train Epoch: 53 [0/1000 (0%)]\tLoss: 0.000973\n",
            "====> Epoch: 53 Average loss: 0.0009\n",
            "Train Epoch: 54 [0/1000 (0%)]\tLoss: 0.001014\n",
            "====> Epoch: 54 Average loss: 0.0009\n",
            "Train Epoch: 55 [0/1000 (0%)]\tLoss: 0.000963\n",
            "====> Epoch: 55 Average loss: 0.0009\n",
            "Train Epoch: 56 [0/1000 (0%)]\tLoss: 0.000975\n",
            "====> Epoch: 56 Average loss: 0.0009\n",
            "Train Epoch: 57 [0/1000 (0%)]\tLoss: 0.000949\n",
            "====> Epoch: 57 Average loss: 0.0009\n",
            "Train Epoch: 58 [0/1000 (0%)]\tLoss: 0.000970\n",
            "====> Epoch: 58 Average loss: 0.0009\n",
            "Train Epoch: 59 [0/1000 (0%)]\tLoss: 0.000934\n",
            "====> Epoch: 59 Average loss: 0.0009\n",
            "Train Epoch: 60 [0/1000 (0%)]\tLoss: 0.000957\n",
            "====> Epoch: 60 Average loss: 0.0008\n",
            "Train Epoch: 61 [0/1000 (0%)]\tLoss: 0.000889\n",
            "====> Epoch: 61 Average loss: 0.0008\n",
            "Train Epoch: 62 [0/1000 (0%)]\tLoss: 0.000930\n",
            "====> Epoch: 62 Average loss: 0.0008\n",
            "Train Epoch: 63 [0/1000 (0%)]\tLoss: 0.000933\n",
            "====> Epoch: 63 Average loss: 0.0008\n",
            "Train Epoch: 64 [0/1000 (0%)]\tLoss: 0.000955\n",
            "====> Epoch: 64 Average loss: 0.0008\n",
            "Train Epoch: 65 [0/1000 (0%)]\tLoss: 0.000869\n",
            "====> Epoch: 65 Average loss: 0.0008\n",
            "Train Epoch: 66 [0/1000 (0%)]\tLoss: 0.000924\n",
            "====> Epoch: 66 Average loss: 0.0008\n",
            "Train Epoch: 67 [0/1000 (0%)]\tLoss: 0.000891\n",
            "====> Epoch: 67 Average loss: 0.0008\n",
            "Train Epoch: 68 [0/1000 (0%)]\tLoss: 0.000909\n",
            "====> Epoch: 68 Average loss: 0.0008\n",
            "Train Epoch: 69 [0/1000 (0%)]\tLoss: 0.000904\n",
            "====> Epoch: 69 Average loss: 0.0008\n",
            "Train Epoch: 70 [0/1000 (0%)]\tLoss: 0.000879\n",
            "====> Epoch: 70 Average loss: 0.0008\n",
            "Train Epoch: 71 [0/1000 (0%)]\tLoss: 0.000856\n",
            "====> Epoch: 71 Average loss: 0.0008\n",
            "Train Epoch: 72 [0/1000 (0%)]\tLoss: 0.000897\n",
            "====> Epoch: 72 Average loss: 0.0008\n",
            "Train Epoch: 73 [0/1000 (0%)]\tLoss: 0.000935\n",
            "====> Epoch: 73 Average loss: 0.0008\n",
            "Train Epoch: 74 [0/1000 (0%)]\tLoss: 0.000843\n",
            "====> Epoch: 74 Average loss: 0.0008\n",
            "Train Epoch: 75 [0/1000 (0%)]\tLoss: 0.000847\n",
            "====> Epoch: 75 Average loss: 0.0008\n",
            "Train Epoch: 76 [0/1000 (0%)]\tLoss: 0.000828\n",
            "====> Epoch: 76 Average loss: 0.0008\n",
            "Train Epoch: 77 [0/1000 (0%)]\tLoss: 0.000829\n",
            "====> Epoch: 77 Average loss: 0.0008\n",
            "Train Epoch: 78 [0/1000 (0%)]\tLoss: 0.000876\n",
            "====> Epoch: 78 Average loss: 0.0008\n",
            "Train Epoch: 79 [0/1000 (0%)]\tLoss: 0.000798\n",
            "====> Epoch: 79 Average loss: 0.0008\n",
            "Train Epoch: 80 [0/1000 (0%)]\tLoss: 0.000811\n",
            "====> Epoch: 80 Average loss: 0.0008\n",
            "Train Epoch: 81 [0/1000 (0%)]\tLoss: 0.000846\n",
            "====> Epoch: 81 Average loss: 0.0007\n",
            "Train Epoch: 82 [0/1000 (0%)]\tLoss: 0.000814\n",
            "====> Epoch: 82 Average loss: 0.0008\n",
            "Train Epoch: 83 [0/1000 (0%)]\tLoss: 0.000862\n",
            "====> Epoch: 83 Average loss: 0.0007\n",
            "Train Epoch: 84 [0/1000 (0%)]\tLoss: 0.000828\n",
            "====> Epoch: 84 Average loss: 0.0007\n",
            "Train Epoch: 85 [0/1000 (0%)]\tLoss: 0.000829\n",
            "====> Epoch: 85 Average loss: 0.0007\n",
            "Train Epoch: 86 [0/1000 (0%)]\tLoss: 0.000822\n",
            "====> Epoch: 86 Average loss: 0.0007\n",
            "Train Epoch: 87 [0/1000 (0%)]\tLoss: 0.000824\n",
            "====> Epoch: 87 Average loss: 0.0007\n",
            "Train Epoch: 88 [0/1000 (0%)]\tLoss: 0.000827\n",
            "====> Epoch: 88 Average loss: 0.0007\n",
            "Train Epoch: 89 [0/1000 (0%)]\tLoss: 0.000822\n",
            "====> Epoch: 89 Average loss: 0.0007\n",
            "Train Epoch: 90 [0/1000 (0%)]\tLoss: 0.000804\n",
            "====> Epoch: 90 Average loss: 0.0007\n",
            "Train Epoch: 91 [0/1000 (0%)]\tLoss: 0.000795\n",
            "====> Epoch: 91 Average loss: 0.0007\n",
            "Train Epoch: 92 [0/1000 (0%)]\tLoss: 0.000787\n",
            "====> Epoch: 92 Average loss: 0.0007\n",
            "Train Epoch: 93 [0/1000 (0%)]\tLoss: 0.000816\n",
            "====> Epoch: 93 Average loss: 0.0007\n",
            "Train Epoch: 94 [0/1000 (0%)]\tLoss: 0.000778\n",
            "====> Epoch: 94 Average loss: 0.0007\n",
            "Train Epoch: 95 [0/1000 (0%)]\tLoss: 0.000785\n",
            "====> Epoch: 95 Average loss: 0.0007\n",
            "Train Epoch: 96 [0/1000 (0%)]\tLoss: 0.000814\n",
            "====> Epoch: 96 Average loss: 0.0007\n",
            "Train Epoch: 97 [0/1000 (0%)]\tLoss: 0.000809\n",
            "====> Epoch: 97 Average loss: 0.0007\n",
            "Train Epoch: 98 [0/1000 (0%)]\tLoss: 0.000769\n",
            "====> Epoch: 98 Average loss: 0.0007\n",
            "Train Epoch: 99 [0/1000 (0%)]\tLoss: 0.000781\n",
            "====> Epoch: 99 Average loss: 0.0007\n",
            "Train Epoch: 100 [0/1000 (0%)]\tLoss: 0.000744\n",
            "====> Epoch: 100 Average loss: 0.0007\n",
            "Train Epoch: 101 [0/1000 (0%)]\tLoss: 0.000764\n",
            "====> Epoch: 101 Average loss: 0.0007\n",
            "Train Epoch: 102 [0/1000 (0%)]\tLoss: 0.000758\n",
            "====> Epoch: 102 Average loss: 0.0007\n",
            "Train Epoch: 103 [0/1000 (0%)]\tLoss: 0.000774\n",
            "====> Epoch: 103 Average loss: 0.0007\n",
            "Train Epoch: 104 [0/1000 (0%)]\tLoss: 0.000770\n",
            "====> Epoch: 104 Average loss: 0.0007\n",
            "Train Epoch: 105 [0/1000 (0%)]\tLoss: 0.000761\n",
            "====> Epoch: 105 Average loss: 0.0007\n",
            "Train Epoch: 106 [0/1000 (0%)]\tLoss: 0.000763\n",
            "====> Epoch: 106 Average loss: 0.0007\n",
            "Train Epoch: 107 [0/1000 (0%)]\tLoss: 0.000749\n",
            "====> Epoch: 107 Average loss: 0.0007\n",
            "Train Epoch: 108 [0/1000 (0%)]\tLoss: 0.000765\n",
            "====> Epoch: 108 Average loss: 0.0007\n",
            "Train Epoch: 109 [0/1000 (0%)]\tLoss: 0.000743\n",
            "====> Epoch: 109 Average loss: 0.0007\n",
            "Train Epoch: 110 [0/1000 (0%)]\tLoss: 0.000716\n",
            "====> Epoch: 110 Average loss: 0.0007\n",
            "Train Epoch: 111 [0/1000 (0%)]\tLoss: 0.000729\n",
            "====> Epoch: 111 Average loss: 0.0007\n",
            "Train Epoch: 112 [0/1000 (0%)]\tLoss: 0.000725\n",
            "====> Epoch: 112 Average loss: 0.0007\n",
            "Train Epoch: 113 [0/1000 (0%)]\tLoss: 0.000726\n",
            "====> Epoch: 113 Average loss: 0.0007\n",
            "Train Epoch: 114 [0/1000 (0%)]\tLoss: 0.000748\n",
            "====> Epoch: 114 Average loss: 0.0007\n",
            "Train Epoch: 115 [0/1000 (0%)]\tLoss: 0.000747\n",
            "====> Epoch: 115 Average loss: 0.0007\n",
            "Train Epoch: 116 [0/1000 (0%)]\tLoss: 0.000732\n",
            "====> Epoch: 116 Average loss: 0.0007\n",
            "Train Epoch: 117 [0/1000 (0%)]\tLoss: 0.000713\n",
            "====> Epoch: 117 Average loss: 0.0007\n",
            "Train Epoch: 118 [0/1000 (0%)]\tLoss: 0.000742\n",
            "====> Epoch: 118 Average loss: 0.0007\n",
            "Train Epoch: 119 [0/1000 (0%)]\tLoss: 0.000736\n",
            "====> Epoch: 119 Average loss: 0.0007\n",
            "Train Epoch: 120 [0/1000 (0%)]\tLoss: 0.000725\n",
            "====> Epoch: 120 Average loss: 0.0007\n",
            "Train Epoch: 121 [0/1000 (0%)]\tLoss: 0.000713\n",
            "====> Epoch: 121 Average loss: 0.0006\n",
            "Train Epoch: 122 [0/1000 (0%)]\tLoss: 0.000725\n",
            "====> Epoch: 122 Average loss: 0.0006\n",
            "Train Epoch: 123 [0/1000 (0%)]\tLoss: 0.000709\n",
            "====> Epoch: 123 Average loss: 0.0006\n",
            "Train Epoch: 124 [0/1000 (0%)]\tLoss: 0.000702\n",
            "====> Epoch: 124 Average loss: 0.0006\n",
            "Train Epoch: 125 [0/1000 (0%)]\tLoss: 0.000692\n",
            "====> Epoch: 125 Average loss: 0.0006\n",
            "Train Epoch: 126 [0/1000 (0%)]\tLoss: 0.000714\n",
            "====> Epoch: 126 Average loss: 0.0006\n",
            "Train Epoch: 127 [0/1000 (0%)]\tLoss: 0.000723\n",
            "====> Epoch: 127 Average loss: 0.0006\n",
            "Train Epoch: 128 [0/1000 (0%)]\tLoss: 0.000706\n",
            "====> Epoch: 128 Average loss: 0.0006\n",
            "Train Epoch: 129 [0/1000 (0%)]\tLoss: 0.000695\n",
            "====> Epoch: 129 Average loss: 0.0006\n",
            "Train Epoch: 130 [0/1000 (0%)]\tLoss: 0.000718\n",
            "====> Epoch: 130 Average loss: 0.0006\n",
            "Train Epoch: 131 [0/1000 (0%)]\tLoss: 0.000696\n",
            "====> Epoch: 131 Average loss: 0.0006\n",
            "Train Epoch: 132 [0/1000 (0%)]\tLoss: 0.000687\n",
            "====> Epoch: 132 Average loss: 0.0006\n",
            "Train Epoch: 133 [0/1000 (0%)]\tLoss: 0.000717\n",
            "====> Epoch: 133 Average loss: 0.0006\n",
            "Train Epoch: 134 [0/1000 (0%)]\tLoss: 0.000704\n",
            "====> Epoch: 134 Average loss: 0.0006\n",
            "Train Epoch: 135 [0/1000 (0%)]\tLoss: 0.000681\n",
            "====> Epoch: 135 Average loss: 0.0006\n",
            "Train Epoch: 136 [0/1000 (0%)]\tLoss: 0.000688\n",
            "====> Epoch: 136 Average loss: 0.0006\n",
            "Train Epoch: 137 [0/1000 (0%)]\tLoss: 0.000670\n",
            "====> Epoch: 137 Average loss: 0.0006\n",
            "Train Epoch: 138 [0/1000 (0%)]\tLoss: 0.000669\n",
            "====> Epoch: 138 Average loss: 0.0006\n",
            "Train Epoch: 139 [0/1000 (0%)]\tLoss: 0.000706\n",
            "====> Epoch: 139 Average loss: 0.0006\n",
            "Train Epoch: 140 [0/1000 (0%)]\tLoss: 0.000689\n",
            "====> Epoch: 140 Average loss: 0.0006\n",
            "Train Epoch: 141 [0/1000 (0%)]\tLoss: 0.000674\n",
            "====> Epoch: 141 Average loss: 0.0006\n",
            "Train Epoch: 142 [0/1000 (0%)]\tLoss: 0.000695\n",
            "====> Epoch: 142 Average loss: 0.0006\n",
            "Train Epoch: 143 [0/1000 (0%)]\tLoss: 0.000677\n",
            "====> Epoch: 143 Average loss: 0.0006\n",
            "Train Epoch: 144 [0/1000 (0%)]\tLoss: 0.000664\n",
            "====> Epoch: 144 Average loss: 0.0006\n",
            "Train Epoch: 145 [0/1000 (0%)]\tLoss: 0.000660\n",
            "====> Epoch: 145 Average loss: 0.0006\n",
            "Train Epoch: 146 [0/1000 (0%)]\tLoss: 0.000683\n",
            "====> Epoch: 146 Average loss: 0.0006\n",
            "Train Epoch: 147 [0/1000 (0%)]\tLoss: 0.000656\n",
            "====> Epoch: 147 Average loss: 0.0006\n",
            "Train Epoch: 148 [0/1000 (0%)]\tLoss: 0.000672\n",
            "====> Epoch: 148 Average loss: 0.0006\n",
            "Train Epoch: 149 [0/1000 (0%)]\tLoss: 0.000684\n",
            "====> Epoch: 149 Average loss: 0.0006\n"
          ]
        }
      ]
    },
    {
      "cell_type": "code",
      "metadata": {
        "id": "T8jXjdRyzMy2"
      },
      "source": [
        "def display_images(imgs):\n",
        "  \n",
        "  r = 1\n",
        "  c = imgs.shape[0]\n",
        "  fig, axs = plt.subplots(r, c)\n",
        "  for j in range(c):\n",
        "    #black and white images\n",
        "    axs[j].imshow(pytorch_to_numpy(imgs[j, 0,:,:]), cmap='gray')\n",
        "    axs[j].axis('off')\n",
        "  plt.show()\n",
        "\n",
        "def display_ae_images(ae_model, test_imgs):\n",
        "  n_images = 5\n",
        "  idx = np.random.randint(0, test_imgs.shape[0], n_images)\n",
        "  test_imgs = test_imgs[idx,:,:,:]\n",
        "  print(test_imgs.shape)\n",
        "\n",
        "  #get output images\n",
        "  output_imgs = pytorch_to_numpy(ae_model.forward( test_imgs ))\n",
        "  print(output_imgs.shape)\n",
        "  \n",
        "  r = 2\n",
        "  c = n_images\n",
        "  fig, axs = plt.subplots(r, c)\n",
        "  for j in range(c):\n",
        "    #black and white images\n",
        "    axs[0,j].imshow(test_imgs[j, 0,:,:], cmap='gray')\n",
        "    axs[0,j].axis('off')\n",
        "    axs[1,j].imshow(output_imgs[j, 0,:,:], cmap='gray')\n",
        "    axs[1,j].axis('off')\n",
        "  plt.show()"
      ],
      "execution_count": 9,
      "outputs": []
    },
    {
      "cell_type": "code",
      "source": [
        "test_imgs = next(iter(mnist_train_loader))[0]\n",
        "display_ae_images(ae_model, test_imgs)"
      ],
      "metadata": {
        "id": "9pbXch29d68D",
        "colab": {
          "base_uri": "https://localhost:8080/",
          "height": 359
        },
        "outputId": "c4501794-d525-40f1-f7d9-672418236dd3"
      },
      "execution_count": 10,
      "outputs": [
        {
          "output_type": "stream",
          "name": "stdout",
          "text": [
            "torch.Size([5, 1, 28, 28])\n",
            "(5, 1, 28, 28)\n"
          ]
        },
        {
          "output_type": "display_data",
          "data": {
            "text/plain": [
              "<Figure size 640x480 with 10 Axes>"
            ],
            "image/png": "[encoded data removed]"
          },
          "metadata": {}
        }
      ]
    },
    {
      "cell_type": "markdown",
      "source": [
        "__Question__ Are you satisfied with the results, do they look good ?"
      ],
      "metadata": {
        "id": "assPaJqB5sa-"
      }
    },
    {
      "cell_type": "markdown",
      "source": [
        "__Answer__ It is very satsfying."
      ],
      "metadata": {
        "id": "Q7uoWa4O5x8R"
      }
    },
    {
      "cell_type": "markdown",
      "metadata": {
        "id": "zO9ATQEiyr3b"
      },
      "source": [
        "# 2/ Two simple generative models\n",
        "\n",
        "In this section, we consider two naïve approaches to creating generative models. The general idea is the following:\n",
        "\n",
        "- train an autoencoder\n",
        "- estimate different statistics (average, variance) of the data in the latent space\n",
        "- using these statistics, define a model based on a Gaussian distribution\n",
        "- generate data with this distribution\n",
        "\n",
        "We will consider these two situations :\n",
        "\n",
        "- a multivariate Gaussian distribution with __diagonal covariance matrix__ (each latent component is an independent random variable). This requires the average and variance in each latent component\n",
        "- a multivariate Gaussian distribution with __non-diagonal covariance matrix__. This requires the average and covariance matrix of the latent components\n",
        "\n",
        "Obviously, since this is done _a posteriori_ after training the autoencoder, there is nothing which guarantees that the latent codes do indeed follow a Gaussian distribution. Our goal will be to verify that Variational Autoencoders indeed produce better results than such naïve approaches."
      ]
    },
    {
      "cell_type": "markdown",
      "source": [
        "## 2.0 Defining and generating random Gaussian latent codes\n",
        "\n",
        "Let $z$ be a latent code and $d$ the dimension of the latent space (called ``z_dim`` in the code). We suppose that the $z$'s follow a multivariate Gaussian distribution, written as:\n",
        "\n",
        "\\begin{equation}\n",
        "z \\sim \\mathcal{N}\\left(\n",
        "\\mu,\n",
        "\\bf{C}\n",
        "\\right),\n",
        "\\end{equation}\n",
        "where $\\mu$ and $\\bf{C}$ are the average vector and covariance matrix of the Gaussian distribution. To define such a generative model, we must therefore determine $\\mu$ and $\\bf{C}$. Once this is done, we can generate a random Gaussian latent code in the following manner:\n",
        "\n",
        "\\begin{equation}\n",
        "z = \\mu + {\\bf{L}} \\varepsilon,\n",
        "\\end{equation}\n",
        "where $\\varepsilon$ is a random vector drawn from a multivariate normal distribution ($\\mu=0$ and ${\\bf{C}} = \\text{Id}$), and $\\bf{L}$ is the Cholesky decomposition of the positive semi-definite covariance matrix. In other words:\n",
        "\n",
        "\\begin{equation}\n",
        "{\\bf{C}} = {\\bf{L}}{\\bf{L}^T}.\n",
        "\\end{equation}\n",
        "\n",
        "This gives a simple method of producing a multivariate Gaussian random variable."
      ],
      "metadata": {
        "id": "x2M1-BRmf56d"
      }
    },
    {
      "cell_type": "markdown",
      "source": [
        "## 2.1/ A Gaussian model with diagonal covariance\n",
        "\n",
        "The first naïve model is  defined in this first case as:\n",
        "\n",
        "- $\\bf{\\mu}=\\left[\\mu_0, \\mu_1, \\cdots, \\mu_{d-1}\\right]^T$\n",
        "- $\n",
        "  \\bf{C} = \\begin{pmatrix}\n",
        "\\sigma_0^2 & 0 & \\cdots & 0 \\\\\n",
        "0 & \\sigma_1^2 & \\cdots & 0 \\\\\n",
        "\\vdots & \\ddots & \\ddots & \\vdots \\\\\n",
        "0 & 0 & \\cdots & \\sigma_{d-1}^2\n",
        "\\end{pmatrix}$\n",
        "\n",
        "In this situation, therefore, the matrix $\\bf{L}$ can be calculated quite simply, as:\n",
        "- $\n",
        "  \\bf{L} = \\begin{pmatrix}\n",
        "\\sigma_0 & 0 & \\cdots & 0 \\\\\n",
        "0 & \\sigma_1 & \\cdots & 0 \\\\\n",
        "\\vdots & \\ddots & \\ddots & \\vdots \\\\\n",
        "0 & 0 & \\cdots & \\sigma_{d-1}\n",
        "\\end{pmatrix}$\n",
        "\n",
        "In the next cell, calculate the empirical average and variances over a certain number of batches:"
      ],
      "metadata": {
        "id": "NWpucm972i7j"
      }
    },
    {
      "cell_type": "code",
      "metadata": {
        "id": "sUXHCtvW2iQ0",
        "colab": {
          "base_uri": "https://localhost:8080/"
        },
        "outputId": "87af0b3a-63e0-4390-efc2-ac49dc438aef"
      },
      "source": [
        "n_batches = np.floor( len(mnist_train_loader.dataset.indices)/batch_size ).astype(int)\n",
        "\n",
        "z_average = torch.zeros(n_batches,ae_model.z_dim)\n",
        "z_sigma = torch.zeros(n_batches,ae_model.z_dim)\n",
        "\n",
        "for batch_idx, (data, _) in enumerate(mnist_train_loader):\n",
        "  z = ae_model.encoder(data)\n",
        "  z_average[batch_idx,:] = z.mean(axis=0) # FILL IN CODE HERE\n",
        "  z_sigma[batch_idx,:] = z.std(axis=0) # FILL IN CODE HERE\n",
        "\n",
        "z_average = z_average.mean(axis=0) # FILL IN CODE HERE\n",
        "z_sigma = z_sigma.mean(axis=0) # FILL IN CODE HERE\n",
        "\n",
        "print(\"Average of latent codes:\",z_average)\n",
        "print(\"Standard deviation of latent codes:\",z_sigma)"
      ],
      "execution_count": 47,
      "outputs": [
        {
          "output_type": "stream",
          "name": "stdout",
          "text": [
            "Average of latent codes: tensor([ 9.1001, -6.1158,  4.4700, -6.7101,  6.3120,  5.1931, -4.1382, 13.8043,\n",
            "         2.4543,  1.3288], grad_fn=<MeanBackward1>)\n",
            "Standard deviation of latent codes: tensor([7.3230, 8.6392, 8.4503, 6.5139, 8.0272, 6.1169, 6.4975, 5.5738, 4.7345,\n",
            "        7.2217], grad_fn=<MeanBackward1>)\n"
          ]
        }
      ]
    },
    {
      "cell_type": "markdown",
      "source": [
        "Now, in the next cell generate data with this simple generative model using the approach described above. Display these images with the ``display_images`` function. \n",
        "\n",
        "__NB__ You do not actually have to define the matrix $\\bf{L}$ in this case, an element-wise multiplication of two (properly chosen) vectors will suffice. To generate multivariate normal random variables you can use the following Pytorch function:\n",
        "\n",
        "- ```torch.randn```\n"
      ],
      "metadata": {
        "id": "Lrpc62ML9K4l"
      }
    },
    {
      "cell_type": "code",
      "source": [
        "def generate_images_diagonal_gaussian(ae_model,z_average,z_sigma,n_images = 5):\n",
        "\n",
        "  epsilon = torch.randn(size=(n_images, ae_model.z_dim)) # FILL IN CODE HERE\n",
        "  z_generated = z_average + z_sigma*epsilon # FILL IN CODE HERE\n",
        "  imgs_generated = ae_model.decoder(z_generated) # FILL IN CODE HERE\n",
        "  return(imgs_generated)\n",
        "\n",
        "imgs_generated = generate_images_diagonal_gaussian(ae_model,z_average,z_sigma,n_images=5)\n",
        "display_images(imgs_generated)"
      ],
      "metadata": {
        "id": "1_Tekii-9QEo",
        "colab": {
          "base_uri": "https://localhost:8080/",
          "height": 122
        },
        "outputId": "9460c1a0-5a33-4be3-e543-73926071890f"
      },
      "execution_count": 177,
      "outputs": [
        {
          "output_type": "display_data",
          "data": {
            "text/plain": [
              "<Figure size 640x480 with 5 Axes>"
            ],
            "image/png": "[encoded data removed]"
          },
          "metadata": {}
        }
      ]
    },
    {
      "cell_type": "markdown",
      "source": [
        "As you should be able to see, these results are not that good. Let's try a slightly more sophisticated model."
      ],
      "metadata": {
        "id": "xiNaEgLIloeA"
      }
    },
    {
      "cell_type": "markdown",
      "source": [
        "## 2.1 Non-diagonal Gaussian model\n",
        "\n",
        "The second model uses a non-diagonal covariance matrix $\\bf{C}$ in the multivariate Gaussian distribution. In the next cell, calculate the average and covariance matrix over several batches of latent codes.\n",
        "\n",
        "__NB__ You can use the ```torch.cov``` function. Make sure to put the data in the right format for this (see documentation : https://pytorch.org/docs/stable/generated/torch.cov.html)."
      ],
      "metadata": {
        "id": "WjVPfkRKYMSh"
      }
    },
    {
      "cell_type": "code",
      "source": [
        "n_batches = np.floor( len(mnist_train_loader.dataset.indices)/batch_size ).astype(int)\n",
        "\n",
        "z_average = torch.zeros(n_batches,ae_model.z_dim)\n",
        "z_covariance = torch.zeros(n_batches,ae_model.z_dim,ae_model.z_dim)\n",
        "\n",
        "for batch_idx, (data, _) in enumerate(mnist_train_loader):\n",
        "  z = ae_model.encoder(data)\n",
        "  z_average[batch_idx,:] = z.mean(axis=0) # FILL IN CODE HERE\n",
        "  z_covariance[batch_idx,:,:] = torch.cov(z.T) # FILL IN CODE \n",
        "\n",
        "z_average = z_average.mean(axis=0) # FILL IN CODE HERE\n",
        "z_covariance = z_covariance.mean(axis=0) # FILL IN CODE HERE\n",
        "\n",
        "print(\"Average of latent codes:\",z_average)\n",
        "print(\"Covariance matrix of latent codes:\",z_covariance)"
      ],
      "metadata": {
        "id": "ArXgre39CD2H",
        "colab": {
          "base_uri": "https://localhost:8080/"
        },
        "outputId": "420cf7f9-7ca0-4dbc-9d39-7e87edad1bd1"
      },
      "execution_count": 53,
      "outputs": [
        {
          "output_type": "stream",
          "name": "stdout",
          "text": [
            "Average of latent codes: tensor([ 8.9222, -6.1984,  4.2862, -6.6283,  6.3849,  5.0585, -4.1756, 13.8724,\n",
            "         2.4570,  1.4649], grad_fn=<MeanBackward1>)\n",
            "Covariance matrix of latent codes: tensor([[ 55.1722,   5.2280,  -0.7069,  -5.5763,  14.3543,  -0.8085,  -3.4274,\n",
            "          12.0157,  17.7420, -14.3414],\n",
            "        [  5.2280,  73.9505,  12.7124,   0.2108,  -9.1952,  12.4738,  -5.2194,\n",
            "         -10.2250,  10.5837,  27.0330],\n",
            "        [ -0.7069,  12.7124,  71.4715,  -6.5884,  18.7895,   4.2883,  22.5178,\n",
            "          10.3817,   8.3771,  -1.5619],\n",
            "        [ -5.5763,   0.2108,  -6.5884,  42.0699, -23.1639, -13.3470,  -4.8631,\n",
            "          -7.2479,  -7.6893,  -8.2347],\n",
            "        [ 14.3543,  -9.1952,  18.7895, -23.1639,  61.7766,  -6.5493,  16.0273,\n",
            "          16.8069,  11.4334,   2.8800],\n",
            "        [ -0.8085,  12.4738,   4.2883, -13.3470,  -6.5493,  37.6581,  -6.1707,\n",
            "          -5.9861,  -9.6442,   7.9832],\n",
            "        [ -3.4274,  -5.2194,  22.5178,  -4.8631,  16.0273,  -6.1707,  42.6911,\n",
            "           9.8985,  -1.3575,  -1.0757],\n",
            "        [ 12.0157, -10.2250,  10.3817,  -7.2479,  16.8069,  -5.9861,   9.8985,\n",
            "          32.2918,   6.4582,   4.6066],\n",
            "        [ 17.7420,  10.5837,   8.3771,  -7.6893,  11.4334,  -9.6442,  -1.3575,\n",
            "           6.4582,  22.5621,  -2.1729],\n",
            "        [-14.3414,  27.0330,  -1.5619,  -8.2347,   2.8800,   7.9832,  -1.0757,\n",
            "           4.6066,  -2.1729,  52.8738]], grad_fn=<MeanBackward1>)\n"
          ]
        }
      ]
    },
    {
      "cell_type": "markdown",
      "source": [
        "Now, generate some samples with this distribution. In this case, you will actually have to calculate the Cholesky decomposition and find $\\bf{L}$. For this, you can use \n",
        "\n",
        "- ```torch.linalg.cholesky```\n",
        "\n",
        "In this model, you will need to carry out matrix multiplication over a batch of latent codes, which is a bit more complicated than the previous naïve model (which used element-wise vector multiplication). So you have two options:\n",
        "\n",
        "- copy the matrix $\\bf{L}$ several times and carry out batch matrix multiplication\n",
        "- simply loop and carry out normal matrix multiplication to produce each image (this has the disadvantage of not taking advantage of any parallelisation, but it should not matter too much).\n",
        "\n",
        "In the first case, you can use the following functions:\n",
        "\n",
        "- ```torch.bmm```\n",
        "- ```torch.tile```\n",
        "\n",
        "Fill in the function to generate images using this model now:"
      ],
      "metadata": {
        "id": "JhXU8cnTZ0E8"
      }
    },
    {
      "cell_type": "code",
      "source": [
        "def generate_images_non_diagonal_gaussian(ae_model,z_average,z_covariance,n_images = 5):\n",
        "\n",
        "  #calcualte Cholesky decomposition of covariance matrix : C = L L^T\n",
        "  # Make sure that the first dimension is the batch dimension (with batch size n_images)\n",
        "  # You can use the torch.unsqueeze function for this\n",
        "  L = torch.linalg.cholesky(z_covariance).unsqueeze(0) # FILL IN CODE HERE\n",
        "  L = L.tile((n_images,1,1))\n",
        "\n",
        "  epsilon = torch.randn(size=(n_images, ae_model.z_dim)) # FILL IN CODE HERE\n",
        "  z_generated = z_average + torch.bmm(L, epsilon.unsqueeze(2)).squeeze(2) # FILL IN CODE HERE\n",
        "  imgs_generated = ae_model.decoder(z_generated) # FILL IN CODE HERE\n",
        "  return(imgs_generated)\n",
        "\n",
        "\n",
        "imgs_generated = generate_images_non_diagonal_gaussian(ae_model,z_average,z_covariance,n_images = 5)\n",
        "display_images(imgs_generated)"
      ],
      "metadata": {
        "id": "zXGlJTZ7Z4ed",
        "colab": {
          "base_uri": "https://localhost:8080/",
          "height": 122
        },
        "outputId": "8b125bed-7f60-485a-e8ab-17221b31fc78"
      },
      "execution_count": 179,
      "outputs": [
        {
          "output_type": "display_data",
          "data": {
            "text/plain": [
              "<Figure size 640x480 with 5 Axes>"
            ],
            "image/png": "[encoded data removed]"
          },
          "metadata": {}
        }
      ]
    },
    {
      "cell_type": "markdown",
      "source": [
        "You should see some improvement, but we can do better than this. Thus, we turn to the variational autoencoder."
      ],
      "metadata": {
        "id": "qLtsdri6zKEm"
      }
    },
    {
      "cell_type": "markdown",
      "source": [
        "# 2.3/ Variational autoencoder\n",
        "\n",
        "Now, we are going to create an variational autoencoder to carry out __image generation__. Let's first recall the idea of a variational autoencoder\n",
        "\n",
        "## Main idea\n",
        "\n",
        "The main idea is to create an autoencoder whose latent codes follow a certain distribution (a Gaussian distribution in practice). This is done with two tools : \n",
        "\n",
        "- A specific architecture, where the encoder produces the average and variance of the latent codes\n",
        "- A specially designed loss function\n",
        "\n",
        "Once the VAE is trained, it is possible to sample in the latent space by producing random normal variables and simply decoding.\n",
        "\n",
        "## Architecture\n",
        "\n",
        "The architecture of the VAE model is as follows:\n",
        "\n",
        "The encoder consists of:\n",
        "\n",
        "Encoder :\n",
        "- Flatten input\n",
        "- Dense layer $+$ ReLU\n",
        "- Dense layer $+$ ReLU\n",
        "- Dense layer (no non-linarity) to produce the average, Dense layer (no non-linarity) to produce the variance (these last two layers are in parallel)\n",
        "\n",
        "Decoder :\n",
        "- Dense layer $+$ ReLU\n",
        "- Dense layer $+$ ReLU\n",
        "- Dense layer $+$ Sigmoid Activation\n",
        "- Reshape, to size $28\\times 28\\times 1$\n",
        "\n",
        "\n",
        "## Variational Autoencoder loss\n",
        "\n",
        "Recall that for the VAE, the loss function is in fact a function to __maximise__. In fact, for implementation, you will see that it is easier to __minimise__ $-\\mathcal{L}$.\n",
        "\n",
        "In the case of an image which is represented by a set of __Bernoulli__ variables (which is relevant for mnist), the original loss function (to maximise) is written :\n",
        "\n",
        "\n",
        "\\begin{align}\n",
        "\\mathcal{L} &= \\log\\left(p_\\theta(x|z)\\right) - KL\\left( q_\\phi(z|x) \\; || \\; p_\\theta(z)\\right) \\\\\n",
        "    &= \\left(\\sum_{i} x_i \\log y_i + (1-x_i) \\log (1-y_i)\\right) - \\left(\\frac{1}{2} \\sum_j \\left( \\sigma_j^2 + \\mu_j^2 - \\log \\sigma_j^2 -1 \\right)\\right)\n",
        "\\end{align}\n",
        "\n",
        "\n",
        "where $i$ is summed over the image pixels, and $j$ is summed over the elements of the latent space. $\\sigma_j^2$ is the $j$th element of the latent space variance, and $\\mu_j$ is the $j$th element of the latent space mean.\n",
        "\n",
        "The left part of the loss (reconstruction error) can be implemented simply as the binary cross-entropy between the input x and the output y. Since we are __maximising__ $-$[binary cross-entropy] (look at the formula), this is equivalent to minimising the binary cross-entropy.\n",
        "\n",
        "For the right part of the equation (KL divergence), you need to implement it manually. \n",
        "\n",
        "The final loss is the average, over the batch size, of the sum of the reconstruction error (left part) and the KL divergence (right part). Be careful, in the formula, the sums over $i$ and $j$ are over the number of pixels and the number of latent elements, respectively. To achieve a sum rather than an average, you can use ```torch.nn.BCELoss(reduction='sum')()```, and the ```torch.sum()``` functions.\n",
        "\n",
        "As in the case of the normal autoencoder, you will need to flatten and then reshape the tensors at the beginning/end of the network."
      ],
      "metadata": {
        "id": "8UqeNhuSdnDt"
      }
    },
    {
      "cell_type": "code",
      "source": [
        "class VAE(torch.nn.Module ):\n",
        "  def __init__(self, x_dim, h_dim1, h_dim2, z_dim,n_rows,n_cols,n_channels):\n",
        "    super(VAE, self).__init__()\n",
        "\n",
        "    self.n_rows = n_rows\n",
        "    self.n_cols = n_cols\n",
        "    self.n_channels = n_channels\n",
        "    self.n_pixels = (self.n_rows)*(self.n_cols)\n",
        "    self.z_dim = z_dim\n",
        "\n",
        "    # encoder part\n",
        "    self.fc1 =  nn.Linear(self.n_pixels, h_dim1) # FILL IN CODE HERE\n",
        "    self.fc2 = nn.Linear(h_dim1, h_dim2) # FILL IN CODE HERE\n",
        "    self.fc31 = nn.Linear(h_dim2, z_dim) # FILL IN CODE HERE\n",
        "    self.fc32 = nn.Linear(h_dim2, z_dim) # FILL IN CODE HERE\n",
        "    # decoder part\n",
        "    self.fc4 = nn.Linear(z_dim, h_dim2) # FILL IN CODE HERE\n",
        "    self.fc5 = nn.Linear(h_dim2, h_dim1) # FILL IN CODE HERE\n",
        "    self.fc6 = nn.Linear(h_dim1, x_dim) # FILL IN CODE HERE\n",
        "\n",
        "  def encoder(self, x):\n",
        "    h = F.relu(self.fc1(x.view(-1, n_pixels))) # FILL IN CODE HERE\n",
        "    h = F.relu(self.fc2(h)) # FILL IN CODE HERE\n",
        "    return self.fc31(h), self.fc32(h) # FILL IN CODE HERE # mu, log_var\n",
        "  def decoder(self, z):\n",
        "    h = F.relu(self.fc4(z)) # FILL IN CODE HERE\n",
        "    h = F.relu(self.fc5(h)) # FILL IN CODE HERE\n",
        "    return F.sigmoid(self.fc6(h)).view(-1, 1, n_rows, n_cols) # FILL IN CODE HERE\n",
        "\n",
        "  def sampling(self, mu, log_var):\n",
        "    # this function samples a Gaussian distribution, with average (mu) and standard deviation specified (using log_var)\n",
        "    std = torch.exp( 0.5 * log_var) # FILL IN CODE HERE\n",
        "    eps = torch.randn_like(std)  # FILL IN CODE HERE\n",
        "    return eps.mul(std).add_(mu) # return z sample\n",
        "\n",
        "  def forward(self, x):\n",
        "    z_mu, z_log_var = self.encoder(x)\n",
        "    z = self.sampling(z_mu, z_log_var)\n",
        "    return self.decoder(z),z_mu, z_log_var\n",
        "\n",
        "  def loss_function(self,x, y, mu, log_var):\n",
        "    reconstruction_error = torch.nn.BCELoss(reduction='sum')(y,x) # FILL IN CODE HERE\n",
        "   \n",
        "    KLD = -0.5 * torch.sum(1 + log_var - mu**2 - log_var.exp()) # FILL IN CODE HERE\n",
        "\n",
        "\n",
        "    return reconstruction_error + KLD # FILL IN CODE HERE"
      ],
      "metadata": {
        "id": "6siMHQLheM4T"
      },
      "execution_count": 108,
      "outputs": []
    },
    {
      "cell_type": "markdown",
      "source": [
        "Now, create the model (similarly as above)"
      ],
      "metadata": {
        "id": "hk_9fDIphlsi"
      }
    },
    {
      "cell_type": "code",
      "source": [
        "# create model\n",
        "vae_dim_1 = ae_dim_1\n",
        "vae_dim_2 = ae_dim_2\n",
        "vae_model = VAE(x_dim=n_pixels, h_dim1= vae_dim_1, h_dim2=vae_dim_2, z_dim=z_dim,n_rows=n_rows,n_cols=n_cols,n_channels=n_channels)\n",
        "vae_optimizer = optim.Adam(vae_model.parameters())"
      ],
      "metadata": {
        "id": "pVlpC2R3htyU"
      },
      "execution_count": 109,
      "outputs": []
    },
    {
      "cell_type": "markdown",
      "source": [
        "Finally, train the model. First modify the training function to the case of the vae."
      ],
      "metadata": {
        "id": "NYKLF_oMh5HO"
      }
    },
    {
      "cell_type": "code",
      "source": [
        "def train_vae(vae_model,data_train_loader,epoch):\n",
        "  train_loss = 0\n",
        "  for batch_idx, (data, _) in enumerate(data_train_loader):\n",
        "    vae_optimizer.zero_grad()\n",
        "\n",
        "    y, z_mu, z_log_var = vae_model.forward(data) # FILL IN CODE HERE\n",
        "    loss_vae = vae_model.loss_function(data, y, z_mu, z_log_var) # FILL IN CODE HERE\n",
        "    loss_vae.backward()\n",
        "    train_loss += loss_vae.item()\n",
        "    vae_optimizer.step() \n",
        "\t\t\n",
        "    if batch_idx % 100 == 0:\n",
        "      print('Train Epoch: {} [{}/{} ({:.0f}%)]\\tLoss: {:.6f}'.format(\n",
        "      epoch, batch_idx * len(data), len(data_train_loader.dataset),\n",
        "      100. * batch_idx / len(data_train_loader), loss_vae.item() / len(data)))\n",
        "  print('====> Epoch: {} Average loss: {:.4f}'.format(epoch, train_loss / len(data_train_loader.dataset)))\n"
      ],
      "metadata": {
        "id": "z6DjKTWmmssb"
      },
      "execution_count": 113,
      "outputs": []
    },
    {
      "cell_type": "code",
      "source": [
        "# now train the model\n",
        "for epoch in range(0, n_epochs):\n",
        "  train_vae(vae_model,mnist_train_loader,epoch)"
      ],
      "metadata": {
        "id": "L9JUUs6Kh8HB",
        "colab": {
          "base_uri": "https://localhost:8080/"
        },
        "outputId": "d2a80779-6e4b-426f-9760-f5da33584e33"
      },
      "execution_count": 114,
      "outputs": [
        {
          "output_type": "stream",
          "name": "stdout",
          "text": [
            "Train Epoch: 0 [0/1000 (0%)]\tLoss: 542.421936\n",
            "====> Epoch: 0 Average loss: 403.3477\n",
            "Train Epoch: 1 [0/1000 (0%)]\tLoss: 305.682648\n",
            "====> Epoch: 1 Average loss: 230.9320\n",
            "Train Epoch: 2 [0/1000 (0%)]\tLoss: 217.252670\n",
            "====> Epoch: 2 Average loss: 195.5905\n",
            "Train Epoch: 3 [0/1000 (0%)]\tLoss: 212.989777\n",
            "====> Epoch: 3 Average loss: 189.4467\n",
            "Train Epoch: 4 [0/1000 (0%)]\tLoss: 205.097031\n",
            "====> Epoch: 4 Average loss: 188.1475\n",
            "Train Epoch: 5 [0/1000 (0%)]\tLoss: 209.858429\n",
            "====> Epoch: 5 Average loss: 185.3763\n",
            "Train Epoch: 6 [0/1000 (0%)]\tLoss: 208.573425\n",
            "====> Epoch: 6 Average loss: 184.3210\n",
            "Train Epoch: 7 [0/1000 (0%)]\tLoss: 206.766556\n",
            "====> Epoch: 7 Average loss: 182.2905\n",
            "Train Epoch: 8 [0/1000 (0%)]\tLoss: 207.867172\n",
            "====> Epoch: 8 Average loss: 181.8725\n",
            "Train Epoch: 9 [0/1000 (0%)]\tLoss: 204.920166\n",
            "====> Epoch: 9 Average loss: 180.0561\n",
            "Train Epoch: 10 [0/1000 (0%)]\tLoss: 194.950928\n",
            "====> Epoch: 10 Average loss: 178.1460\n",
            "Train Epoch: 11 [0/1000 (0%)]\tLoss: 199.365280\n",
            "====> Epoch: 11 Average loss: 176.5614\n",
            "Train Epoch: 12 [0/1000 (0%)]\tLoss: 187.645569\n",
            "====> Epoch: 12 Average loss: 175.0986\n",
            "Train Epoch: 13 [0/1000 (0%)]\tLoss: 195.912018\n",
            "====> Epoch: 13 Average loss: 174.2517\n",
            "Train Epoch: 14 [0/1000 (0%)]\tLoss: 186.527878\n",
            "====> Epoch: 14 Average loss: 173.2622\n",
            "Train Epoch: 15 [0/1000 (0%)]\tLoss: 192.392914\n",
            "====> Epoch: 15 Average loss: 171.3050\n",
            "Train Epoch: 16 [0/1000 (0%)]\tLoss: 188.128876\n",
            "====> Epoch: 16 Average loss: 170.6034\n",
            "Train Epoch: 17 [0/1000 (0%)]\tLoss: 186.117813\n",
            "====> Epoch: 17 Average loss: 168.5515\n",
            "Train Epoch: 18 [0/1000 (0%)]\tLoss: 189.578781\n",
            "====> Epoch: 18 Average loss: 167.2267\n",
            "Train Epoch: 19 [0/1000 (0%)]\tLoss: 178.217819\n",
            "====> Epoch: 19 Average loss: 166.0116\n",
            "Train Epoch: 20 [0/1000 (0%)]\tLoss: 186.136124\n",
            "====> Epoch: 20 Average loss: 165.0781\n",
            "Train Epoch: 21 [0/1000 (0%)]\tLoss: 190.700592\n",
            "====> Epoch: 21 Average loss: 164.2306\n",
            "Train Epoch: 22 [0/1000 (0%)]\tLoss: 177.836563\n",
            "====> Epoch: 22 Average loss: 162.0483\n",
            "Train Epoch: 23 [0/1000 (0%)]\tLoss: 173.311127\n",
            "====> Epoch: 23 Average loss: 161.1993\n",
            "Train Epoch: 24 [0/1000 (0%)]\tLoss: 177.860031\n",
            "====> Epoch: 24 Average loss: 158.6350\n",
            "Train Epoch: 25 [0/1000 (0%)]\tLoss: 183.579422\n",
            "====> Epoch: 25 Average loss: 157.7844\n",
            "Train Epoch: 26 [0/1000 (0%)]\tLoss: 171.506042\n",
            "====> Epoch: 26 Average loss: 156.4628\n",
            "Train Epoch: 27 [0/1000 (0%)]\tLoss: 177.986115\n",
            "====> Epoch: 27 Average loss: 153.8268\n",
            "Train Epoch: 28 [0/1000 (0%)]\tLoss: 174.412933\n",
            "====> Epoch: 28 Average loss: 152.6690\n",
            "Train Epoch: 29 [0/1000 (0%)]\tLoss: 171.719101\n",
            "====> Epoch: 29 Average loss: 149.9892\n",
            "Train Epoch: 30 [0/1000 (0%)]\tLoss: 163.238388\n",
            "====> Epoch: 30 Average loss: 146.6901\n",
            "Train Epoch: 31 [0/1000 (0%)]\tLoss: 165.540222\n",
            "====> Epoch: 31 Average loss: 144.2941\n",
            "Train Epoch: 32 [0/1000 (0%)]\tLoss: 159.918976\n",
            "====> Epoch: 32 Average loss: 142.6980\n",
            "Train Epoch: 33 [0/1000 (0%)]\tLoss: 155.076416\n",
            "====> Epoch: 33 Average loss: 140.3557\n",
            "Train Epoch: 34 [0/1000 (0%)]\tLoss: 158.523865\n",
            "====> Epoch: 34 Average loss: 138.9689\n",
            "Train Epoch: 35 [0/1000 (0%)]\tLoss: 155.822449\n",
            "====> Epoch: 35 Average loss: 136.9014\n",
            "Train Epoch: 36 [0/1000 (0%)]\tLoss: 148.891724\n",
            "====> Epoch: 36 Average loss: 136.0078\n",
            "Train Epoch: 37 [0/1000 (0%)]\tLoss: 148.536209\n",
            "====> Epoch: 37 Average loss: 134.3506\n",
            "Train Epoch: 38 [0/1000 (0%)]\tLoss: 150.566772\n",
            "====> Epoch: 38 Average loss: 133.7122\n",
            "Train Epoch: 39 [0/1000 (0%)]\tLoss: 149.826752\n",
            "====> Epoch: 39 Average loss: 133.3700\n",
            "Train Epoch: 40 [0/1000 (0%)]\tLoss: 146.110825\n",
            "====> Epoch: 40 Average loss: 132.7501\n",
            "Train Epoch: 41 [0/1000 (0%)]\tLoss: 145.687668\n",
            "====> Epoch: 41 Average loss: 131.5204\n",
            "Train Epoch: 42 [0/1000 (0%)]\tLoss: 149.278809\n",
            "====> Epoch: 42 Average loss: 131.4737\n",
            "Train Epoch: 43 [0/1000 (0%)]\tLoss: 145.380753\n",
            "====> Epoch: 43 Average loss: 129.5000\n",
            "Train Epoch: 44 [0/1000 (0%)]\tLoss: 140.767990\n",
            "====> Epoch: 44 Average loss: 128.1852\n",
            "Train Epoch: 45 [0/1000 (0%)]\tLoss: 135.927658\n",
            "====> Epoch: 45 Average loss: 127.3221\n",
            "Train Epoch: 46 [0/1000 (0%)]\tLoss: 147.473312\n",
            "====> Epoch: 46 Average loss: 126.7852\n",
            "Train Epoch: 47 [0/1000 (0%)]\tLoss: 138.809418\n",
            "====> Epoch: 47 Average loss: 126.2851\n",
            "Train Epoch: 48 [0/1000 (0%)]\tLoss: 141.632095\n",
            "====> Epoch: 48 Average loss: 125.3678\n",
            "Train Epoch: 49 [0/1000 (0%)]\tLoss: 136.495148\n",
            "====> Epoch: 49 Average loss: 124.4612\n",
            "Train Epoch: 50 [0/1000 (0%)]\tLoss: 136.171768\n",
            "====> Epoch: 50 Average loss: 123.9165\n",
            "Train Epoch: 51 [0/1000 (0%)]\tLoss: 137.199051\n",
            "====> Epoch: 51 Average loss: 122.9763\n",
            "Train Epoch: 52 [0/1000 (0%)]\tLoss: 135.710785\n",
            "====> Epoch: 52 Average loss: 122.0328\n",
            "Train Epoch: 53 [0/1000 (0%)]\tLoss: 139.507751\n",
            "====> Epoch: 53 Average loss: 121.3457\n",
            "Train Epoch: 54 [0/1000 (0%)]\tLoss: 132.302505\n",
            "====> Epoch: 54 Average loss: 120.6901\n",
            "Train Epoch: 55 [0/1000 (0%)]\tLoss: 131.750946\n",
            "====> Epoch: 55 Average loss: 119.9772\n",
            "Train Epoch: 56 [0/1000 (0%)]\tLoss: 131.293625\n",
            "====> Epoch: 56 Average loss: 118.5796\n",
            "Train Epoch: 57 [0/1000 (0%)]\tLoss: 136.756592\n",
            "====> Epoch: 57 Average loss: 118.3988\n",
            "Train Epoch: 58 [0/1000 (0%)]\tLoss: 126.904747\n",
            "====> Epoch: 58 Average loss: 117.0258\n",
            "Train Epoch: 59 [0/1000 (0%)]\tLoss: 130.268738\n",
            "====> Epoch: 59 Average loss: 116.7226\n",
            "Train Epoch: 60 [0/1000 (0%)]\tLoss: 131.607986\n",
            "====> Epoch: 60 Average loss: 116.2751\n",
            "Train Epoch: 61 [0/1000 (0%)]\tLoss: 130.338364\n",
            "====> Epoch: 61 Average loss: 116.5003\n",
            "Train Epoch: 62 [0/1000 (0%)]\tLoss: 127.511360\n",
            "====> Epoch: 62 Average loss: 115.4783\n",
            "Train Epoch: 63 [0/1000 (0%)]\tLoss: 124.353600\n",
            "====> Epoch: 63 Average loss: 115.7266\n",
            "Train Epoch: 64 [0/1000 (0%)]\tLoss: 127.749290\n",
            "====> Epoch: 64 Average loss: 114.4191\n",
            "Train Epoch: 65 [0/1000 (0%)]\tLoss: 125.728928\n",
            "====> Epoch: 65 Average loss: 113.9316\n",
            "Train Epoch: 66 [0/1000 (0%)]\tLoss: 130.471649\n",
            "====> Epoch: 66 Average loss: 114.1467\n",
            "Train Epoch: 67 [0/1000 (0%)]\tLoss: 128.332520\n",
            "====> Epoch: 67 Average loss: 113.6442\n",
            "Train Epoch: 68 [0/1000 (0%)]\tLoss: 124.340279\n",
            "====> Epoch: 68 Average loss: 112.4429\n",
            "Train Epoch: 69 [0/1000 (0%)]\tLoss: 129.241791\n",
            "====> Epoch: 69 Average loss: 112.0303\n",
            "Train Epoch: 70 [0/1000 (0%)]\tLoss: 121.293701\n",
            "====> Epoch: 70 Average loss: 111.1634\n",
            "Train Epoch: 71 [0/1000 (0%)]\tLoss: 122.030746\n",
            "====> Epoch: 71 Average loss: 111.4871\n",
            "Train Epoch: 72 [0/1000 (0%)]\tLoss: 123.120720\n",
            "====> Epoch: 72 Average loss: 110.6861\n",
            "Train Epoch: 73 [0/1000 (0%)]\tLoss: 127.788254\n",
            "====> Epoch: 73 Average loss: 110.4496\n",
            "Train Epoch: 74 [0/1000 (0%)]\tLoss: 122.768639\n",
            "====> Epoch: 74 Average loss: 110.4550\n",
            "Train Epoch: 75 [0/1000 (0%)]\tLoss: 116.274658\n",
            "====> Epoch: 75 Average loss: 109.8282\n",
            "Train Epoch: 76 [0/1000 (0%)]\tLoss: 121.191742\n",
            "====> Epoch: 76 Average loss: 109.4841\n",
            "Train Epoch: 77 [0/1000 (0%)]\tLoss: 125.964447\n",
            "====> Epoch: 77 Average loss: 108.5905\n",
            "Train Epoch: 78 [0/1000 (0%)]\tLoss: 124.143372\n",
            "====> Epoch: 78 Average loss: 108.7727\n",
            "Train Epoch: 79 [0/1000 (0%)]\tLoss: 120.980400\n",
            "====> Epoch: 79 Average loss: 107.9878\n",
            "Train Epoch: 80 [0/1000 (0%)]\tLoss: 118.615578\n",
            "====> Epoch: 80 Average loss: 107.7717\n",
            "Train Epoch: 81 [0/1000 (0%)]\tLoss: 119.027161\n",
            "====> Epoch: 81 Average loss: 107.3994\n",
            "Train Epoch: 82 [0/1000 (0%)]\tLoss: 121.280052\n",
            "====> Epoch: 82 Average loss: 107.7543\n",
            "Train Epoch: 83 [0/1000 (0%)]\tLoss: 119.834084\n",
            "====> Epoch: 83 Average loss: 107.3472\n",
            "Train Epoch: 84 [0/1000 (0%)]\tLoss: 120.344055\n",
            "====> Epoch: 84 Average loss: 106.6484\n",
            "Train Epoch: 85 [0/1000 (0%)]\tLoss: 115.526184\n",
            "====> Epoch: 85 Average loss: 105.8906\n",
            "Train Epoch: 86 [0/1000 (0%)]\tLoss: 119.231453\n",
            "====> Epoch: 86 Average loss: 105.9934\n",
            "Train Epoch: 87 [0/1000 (0%)]\tLoss: 113.831032\n",
            "====> Epoch: 87 Average loss: 105.7955\n",
            "Train Epoch: 88 [0/1000 (0%)]\tLoss: 119.348053\n",
            "====> Epoch: 88 Average loss: 104.8771\n",
            "Train Epoch: 89 [0/1000 (0%)]\tLoss: 116.537460\n",
            "====> Epoch: 89 Average loss: 104.6700\n",
            "Train Epoch: 90 [0/1000 (0%)]\tLoss: 119.700195\n",
            "====> Epoch: 90 Average loss: 104.4934\n",
            "Train Epoch: 91 [0/1000 (0%)]\tLoss: 119.296478\n",
            "====> Epoch: 91 Average loss: 104.4685\n",
            "Train Epoch: 92 [0/1000 (0%)]\tLoss: 111.104271\n",
            "====> Epoch: 92 Average loss: 104.7808\n",
            "Train Epoch: 93 [0/1000 (0%)]\tLoss: 109.979202\n",
            "====> Epoch: 93 Average loss: 104.1201\n",
            "Train Epoch: 94 [0/1000 (0%)]\tLoss: 119.317032\n",
            "====> Epoch: 94 Average loss: 103.3329\n",
            "Train Epoch: 95 [0/1000 (0%)]\tLoss: 112.243942\n",
            "====> Epoch: 95 Average loss: 103.4265\n",
            "Train Epoch: 96 [0/1000 (0%)]\tLoss: 118.377121\n",
            "====> Epoch: 96 Average loss: 103.0864\n",
            "Train Epoch: 97 [0/1000 (0%)]\tLoss: 112.790230\n",
            "====> Epoch: 97 Average loss: 102.6572\n",
            "Train Epoch: 98 [0/1000 (0%)]\tLoss: 111.600960\n",
            "====> Epoch: 98 Average loss: 102.5231\n",
            "Train Epoch: 99 [0/1000 (0%)]\tLoss: 111.082161\n",
            "====> Epoch: 99 Average loss: 102.0490\n",
            "Train Epoch: 100 [0/1000 (0%)]\tLoss: 113.294334\n",
            "====> Epoch: 100 Average loss: 102.0613\n",
            "Train Epoch: 101 [0/1000 (0%)]\tLoss: 115.505257\n",
            "====> Epoch: 101 Average loss: 101.8388\n",
            "Train Epoch: 102 [0/1000 (0%)]\tLoss: 112.872032\n",
            "====> Epoch: 102 Average loss: 101.3877\n",
            "Train Epoch: 103 [0/1000 (0%)]\tLoss: 112.374664\n",
            "====> Epoch: 103 Average loss: 101.0230\n",
            "Train Epoch: 104 [0/1000 (0%)]\tLoss: 113.580223\n",
            "====> Epoch: 104 Average loss: 101.0195\n",
            "Train Epoch: 105 [0/1000 (0%)]\tLoss: 113.175858\n",
            "====> Epoch: 105 Average loss: 100.6996\n",
            "Train Epoch: 106 [0/1000 (0%)]\tLoss: 109.306442\n",
            "====> Epoch: 106 Average loss: 100.5050\n",
            "Train Epoch: 107 [0/1000 (0%)]\tLoss: 110.560699\n",
            "====> Epoch: 107 Average loss: 100.8650\n",
            "Train Epoch: 108 [0/1000 (0%)]\tLoss: 114.134079\n",
            "====> Epoch: 108 Average loss: 100.6477\n",
            "Train Epoch: 109 [0/1000 (0%)]\tLoss: 111.296646\n",
            "====> Epoch: 109 Average loss: 99.9412\n",
            "Train Epoch: 110 [0/1000 (0%)]\tLoss: 110.098434\n",
            "====> Epoch: 110 Average loss: 100.1056\n",
            "Train Epoch: 111 [0/1000 (0%)]\tLoss: 109.758781\n",
            "====> Epoch: 111 Average loss: 99.6319\n",
            "Train Epoch: 112 [0/1000 (0%)]\tLoss: 111.868057\n",
            "====> Epoch: 112 Average loss: 99.6491\n",
            "Train Epoch: 113 [0/1000 (0%)]\tLoss: 112.171104\n",
            "====> Epoch: 113 Average loss: 99.0176\n",
            "Train Epoch: 114 [0/1000 (0%)]\tLoss: 110.636543\n",
            "====> Epoch: 114 Average loss: 99.1724\n",
            "Train Epoch: 115 [0/1000 (0%)]\tLoss: 108.936829\n",
            "====> Epoch: 115 Average loss: 98.8241\n",
            "Train Epoch: 116 [0/1000 (0%)]\tLoss: 111.885506\n",
            "====> Epoch: 116 Average loss: 98.6711\n",
            "Train Epoch: 117 [0/1000 (0%)]\tLoss: 114.396507\n",
            "====> Epoch: 117 Average loss: 98.4423\n",
            "Train Epoch: 118 [0/1000 (0%)]\tLoss: 110.487961\n",
            "====> Epoch: 118 Average loss: 97.8480\n",
            "Train Epoch: 119 [0/1000 (0%)]\tLoss: 107.596931\n",
            "====> Epoch: 119 Average loss: 97.8267\n",
            "Train Epoch: 120 [0/1000 (0%)]\tLoss: 109.491425\n",
            "====> Epoch: 120 Average loss: 97.6248\n",
            "Train Epoch: 121 [0/1000 (0%)]\tLoss: 108.630836\n",
            "====> Epoch: 121 Average loss: 97.4838\n",
            "Train Epoch: 122 [0/1000 (0%)]\tLoss: 106.489220\n",
            "====> Epoch: 122 Average loss: 96.9236\n",
            "Train Epoch: 123 [0/1000 (0%)]\tLoss: 108.026001\n",
            "====> Epoch: 123 Average loss: 96.9917\n",
            "Train Epoch: 124 [0/1000 (0%)]\tLoss: 110.622986\n",
            "====> Epoch: 124 Average loss: 96.8692\n",
            "Train Epoch: 125 [0/1000 (0%)]\tLoss: 104.965942\n",
            "====> Epoch: 125 Average loss: 97.0637\n",
            "Train Epoch: 126 [0/1000 (0%)]\tLoss: 106.987404\n",
            "====> Epoch: 126 Average loss: 96.6376\n",
            "Train Epoch: 127 [0/1000 (0%)]\tLoss: 109.919357\n",
            "====> Epoch: 127 Average loss: 96.5559\n",
            "Train Epoch: 128 [0/1000 (0%)]\tLoss: 106.973679\n",
            "====> Epoch: 128 Average loss: 96.6023\n",
            "Train Epoch: 129 [0/1000 (0%)]\tLoss: 106.634598\n",
            "====> Epoch: 129 Average loss: 96.1679\n",
            "Train Epoch: 130 [0/1000 (0%)]\tLoss: 104.087090\n",
            "====> Epoch: 130 Average loss: 96.4935\n",
            "Train Epoch: 131 [0/1000 (0%)]\tLoss: 110.021332\n",
            "====> Epoch: 131 Average loss: 96.0433\n",
            "Train Epoch: 132 [0/1000 (0%)]\tLoss: 106.873245\n",
            "====> Epoch: 132 Average loss: 96.0332\n",
            "Train Epoch: 133 [0/1000 (0%)]\tLoss: 104.179329\n",
            "====> Epoch: 133 Average loss: 95.6250\n",
            "Train Epoch: 134 [0/1000 (0%)]\tLoss: 106.832474\n",
            "====> Epoch: 134 Average loss: 95.1285\n",
            "Train Epoch: 135 [0/1000 (0%)]\tLoss: 108.544304\n",
            "====> Epoch: 135 Average loss: 94.6571\n",
            "Train Epoch: 136 [0/1000 (0%)]\tLoss: 108.104202\n",
            "====> Epoch: 136 Average loss: 94.8430\n",
            "Train Epoch: 137 [0/1000 (0%)]\tLoss: 104.832214\n",
            "====> Epoch: 137 Average loss: 94.4047\n",
            "Train Epoch: 138 [0/1000 (0%)]\tLoss: 102.786919\n",
            "====> Epoch: 138 Average loss: 94.6363\n",
            "Train Epoch: 139 [0/1000 (0%)]\tLoss: 105.519447\n",
            "====> Epoch: 139 Average loss: 95.1115\n",
            "Train Epoch: 140 [0/1000 (0%)]\tLoss: 101.361206\n",
            "====> Epoch: 140 Average loss: 94.2251\n",
            "Train Epoch: 141 [0/1000 (0%)]\tLoss: 101.730446\n",
            "====> Epoch: 141 Average loss: 93.7187\n",
            "Train Epoch: 142 [0/1000 (0%)]\tLoss: 105.716133\n",
            "====> Epoch: 142 Average loss: 93.6991\n",
            "Train Epoch: 143 [0/1000 (0%)]\tLoss: 104.529572\n",
            "====> Epoch: 143 Average loss: 94.4020\n",
            "Train Epoch: 144 [0/1000 (0%)]\tLoss: 105.232918\n",
            "====> Epoch: 144 Average loss: 93.7726\n",
            "Train Epoch: 145 [0/1000 (0%)]\tLoss: 104.230110\n",
            "====> Epoch: 145 Average loss: 93.6764\n",
            "Train Epoch: 146 [0/1000 (0%)]\tLoss: 103.835297\n",
            "====> Epoch: 146 Average loss: 93.4597\n",
            "Train Epoch: 147 [0/1000 (0%)]\tLoss: 103.969917\n",
            "====> Epoch: 147 Average loss: 92.8151\n",
            "Train Epoch: 148 [0/1000 (0%)]\tLoss: 105.371162\n",
            "====> Epoch: 148 Average loss: 93.0694\n",
            "Train Epoch: 149 [0/1000 (0%)]\tLoss: 101.094788\n",
            "====> Epoch: 149 Average loss: 92.6400\n"
          ]
        }
      ]
    },
    {
      "cell_type": "markdown",
      "source": [
        "Now, generate some images with the VAE model"
      ],
      "metadata": {
        "id": "uTfRje_AkKDr"
      }
    },
    {
      "cell_type": "code",
      "source": [
        "def generate_images_vae(vae_model,n_images = 5):\n",
        "\n",
        "  epsilon = torch.randn(size=(n_images, vae_model.z_dim)) # FILL IN CODE HERE\n",
        "  imgs_generated = vae_model.decoder(epsilon) # FILL IN CODE HERE\n",
        "  return(imgs_generated)\n",
        "\n",
        "imgs_generated = generate_images_vae(vae_model,n_images=5)\n",
        "display_images(imgs_generated)"
      ],
      "metadata": {
        "id": "41tXdNsFkKk5",
        "colab": {
          "base_uri": "https://localhost:8080/",
          "height": 122
        },
        "outputId": "64a03e4f-8d95-4d21-cc33-ca0a7d85a50f"
      },
      "execution_count": 115,
      "outputs": [
        {
          "output_type": "display_data",
          "data": {
            "text/plain": [
              "<Figure size 640x480 with 5 Axes>"
            ],
            "image/png": "[encoded data removed]"
          },
          "metadata": {}
        }
      ]
    },
    {
      "cell_type": "markdown",
      "source": [
        "Do you think the results are better ? What difference can you see ? What advantage does the Variational Autoencoder have over the simple autoencoder model, even though the second autoencoder approach has a more complex probabilistic latent model (a full covariance matrix) ?"
      ],
      "metadata": {
        "id": "lGnvKoynzaFN"
      }
    },
    {
      "cell_type": "markdown",
      "source": [
        "__Answer__"
      ],
      "metadata": {
        "id": "uuYn3_PBzjkI"
      }
    },
    {
      "cell_type": "markdown",
      "source": [
        "The results are slightly better than with the second autoencoder approach, but they seem more blurred, but also more complete and recognisable. \n",
        "The variational encoder can generate new data from the trained latent space with only a random gaussian distribution, whereas the second autoencoder needs input data."
      ],
      "metadata": {
        "id": "9hmM_3GZ2IdU"
      }
    },
    {
      "cell_type": "markdown",
      "source": [
        "We will now compare the models quantitavely."
      ],
      "metadata": {
        "id": "uXm-D9Ef9vYm"
      }
    },
    {
      "cell_type": "markdown",
      "source": [
        "# 3 Evaluating and comparing the models\n",
        "\n",
        "We will evaluate the models, in the following manner:\n",
        "\n",
        "- we train a simple convolutional neural network classifier on mnist, to a good accuracy\n",
        "- we generate images with each model\n",
        "- we find the average of the highest probability of the images according to the classifier, for each model. If this value is high, it means that on average the classifier considers that the images look like a \n",
        "\n",
        "We will use the following convoluional architecture for the classifier:\n",
        "\n",
        "- conv2d, filter size  3×3 , 32 filters, stride=(2,2), padding=\"SAME\"\n",
        "- ReLU\n",
        "- conv2d, filter size  3×3 , 32 filters, stride=(2,2), padding=\"SAME\"\n",
        "- ReLU\n",
        "- MaxPool2D, stride=(2,2)\n",
        "- Flatten\n",
        "- Dense layer\n",
        "\n",
        "Now, define the model. To make things easier, use the ```torch.nn.Sequential``` API (there is no need for a Class in this simple case)."
      ],
      "metadata": {
        "id": "04MddkzuE324"
      }
    },
    {
      "cell_type": "code",
      "source": [
        "learning_rate = 0.01\n",
        "n_epochs = 20\n",
        "batch_size = 64\n",
        "nb_classes = int(mnist_trainset.targets.max()+1)\n",
        "\n",
        "# number of convolutional filters to use\n",
        "nb_filters = 32\n",
        "# convolution kernel size\n",
        "kernel_size = (3, 3)\n",
        "# size of pooling area for max pooling\n",
        "pool_size = (2, 2)\n",
        "\n",
        "# --- Size of the successive layers\n",
        "n_h_0 = 1 #greyscale input images\n",
        "n_h_1 = nb_filters\n",
        "n_h_2 = nb_filters\n",
        "\n",
        "mnist_classification_model = nn.Sequential(\n",
        "    nn.Conv2d(in_channels=n_h_0, out_channels=n_h_1, kernel_size=kernel_size, stride=(1,1), padding='same'),\n",
        "    nn.ReLU(),\n",
        "    nn.Conv2d(in_channels=n_h_1, out_channels=n_h_2, kernel_size=kernel_size, stride=(1,1), padding='same'),\n",
        "    nn.ReLU(),\n",
        "    nn.MaxPool2d(kernel_size=pool_size, stride=(2,2)),\n",
        "    nn.Flatten(),\n",
        "    nn.Linear(in_features=6272, out_features=10)\n",
        ") # FILL IN CODE HERE\n",
        "\n",
        "criterion = nn.CrossEntropyLoss() # FILL IN CODE HERE\n",
        "optimizer = torch.optim.Adam(mnist_classification_model.parameters(), lr=learning_rate)"
      ],
      "metadata": {
        "id": "P87a-DkXFOCv"
      },
      "execution_count": 132,
      "outputs": []
    },
    {
      "cell_type": "markdown",
      "source": [
        "Create a function to calculate accuracy, instead of loss"
      ],
      "metadata": {
        "id": "_sUZONxw2bnt"
      }
    },
    {
      "cell_type": "code",
      "source": [
        "def get_accuracy(x_pred,x_label):\n",
        "  acc = torch.sum(x_pred == x_label)/(x_pred.shape[0])\n",
        "  return acc"
      ],
      "metadata": {
        "id": "aOww0ydr2fT0"
      },
      "execution_count": 133,
      "outputs": []
    },
    {
      "cell_type": "markdown",
      "source": [
        "Now, train the model. You should be able to achieve an accuracy close to 1.00 within 20 epochs"
      ],
      "metadata": {
        "id": "qw0vkZIqFcse"
      }
    },
    {
      "cell_type": "code",
      "source": [
        "train_losses=[]\n",
        "valid_losses=[]\n",
        "\n",
        "for epoch in range(0,n_epochs):\n",
        "  train_loss=0.0\n",
        "\n",
        "  for batch_idx, (imgs, labels) in enumerate(mnist_train_loader):\n",
        "\n",
        "    # set the gradients back to 0\n",
        "    optimizer.zero_grad()\n",
        "    predict=mnist_classification_model(imgs)\n",
        "    # apply loss function\n",
        "    loss=criterion(predict,labels)\n",
        "    acc = get_accuracy(torch.argmax(predict,dim=1),labels)\n",
        "    # backpropagation\n",
        "    loss.backward()\n",
        "    optimizer.step()\n",
        "    train_loss=loss.item()\n",
        "  print('Epoch:{} Train Loss:{:.4f} Accuracy:{:.4f}'.format(epoch,train_loss/imgs.shape[0],acc))"
      ],
      "metadata": {
        "id": "0FA8YoX2FcHP",
        "colab": {
          "base_uri": "https://localhost:8080/"
        },
        "outputId": "9a2a979f-19cd-478f-d19f-99f30db1a7fb"
      },
      "execution_count": 134,
      "outputs": [
        {
          "output_type": "stream",
          "name": "stdout",
          "text": [
            "Epoch:0 Train Loss:0.0072 Accuracy:0.7266\n",
            "Epoch:1 Train Loss:0.0027 Accuracy:0.8828\n",
            "Epoch:2 Train Loss:0.0010 Accuracy:0.9766\n",
            "Epoch:3 Train Loss:0.0009 Accuracy:0.9688\n",
            "Epoch:4 Train Loss:0.0004 Accuracy:0.9844\n",
            "Epoch:5 Train Loss:0.0001 Accuracy:0.9922\n",
            "Epoch:6 Train Loss:0.0000 Accuracy:1.0000\n",
            "Epoch:7 Train Loss:0.0000 Accuracy:1.0000\n",
            "Epoch:8 Train Loss:0.0000 Accuracy:1.0000\n",
            "Epoch:9 Train Loss:0.0000 Accuracy:1.0000\n",
            "Epoch:10 Train Loss:0.0000 Accuracy:1.0000\n",
            "Epoch:11 Train Loss:0.0000 Accuracy:1.0000\n",
            "Epoch:12 Train Loss:0.0000 Accuracy:1.0000\n",
            "Epoch:13 Train Loss:0.0000 Accuracy:1.0000\n",
            "Epoch:14 Train Loss:0.0000 Accuracy:1.0000\n",
            "Epoch:15 Train Loss:0.0000 Accuracy:1.0000\n",
            "Epoch:16 Train Loss:0.0000 Accuracy:1.0000\n",
            "Epoch:17 Train Loss:0.0000 Accuracy:1.0000\n",
            "Epoch:18 Train Loss:0.0000 Accuracy:1.0000\n",
            "Epoch:19 Train Loss:0.0000 Accuracy:1.0000\n"
          ]
        }
      ]
    },
    {
      "cell_type": "markdown",
      "source": [
        "### Evaluate the average maximum prediction of the images generated by each generative model (higher is better)\n",
        "\n",
        "Now, we will evaluate the models. For each ones, produce a certain number of images, and put those images through the classification network. Then find the maximum class probability of each image, and average it over all the images. We will use this as a metric to evaluate each model.\n",
        "\n",
        "__CAREFUL__: the output of the network does __not__ include the Softmax layer, so you will have to carry it out, with:\n",
        "- ```torch.nn.Softmax()(...)```\n",
        "\n",
        "Define this metric now:"
      ],
      "metadata": {
        "id": "zFgN5LblFwTa"
      }
    },
    {
      "cell_type": "code",
      "source": [
        "def generative_model_score(imgs_in,classification_model):\n",
        "  \n",
        "  pred_class = torch.zeros(imgs_in.shape[0])\n",
        "\n",
        "  for i in range(imgs_in.shape[0]):\n",
        "    img = imgs_in[i:i+1]\n",
        "    pred = nn.Softmax(dim=1)(classification_model(img))\n",
        "    max = torch.max(pred)\n",
        "    pred_class[i] = max\n",
        "\n",
        "  gen_score = torch.mean(pred_class).item() # FILL IN CODE HERE\n",
        "  return(gen_score)"
      ],
      "metadata": {
        "id": "lCJ_0qqjOXHT"
      },
      "execution_count": 174,
      "outputs": []
    },
    {
      "cell_type": "markdown",
      "source": [
        "Now, generate some images with each of the three models, and evaluate these models:"
      ],
      "metadata": {
        "id": "yGq7YFg51UoP"
      }
    },
    {
      "cell_type": "code",
      "source": [
        "imgs_diagonal_gaussian = generate_images_diagonal_gaussian(ae_model,z_average,z_sigma,n_images = 50)\n",
        "imgs_non_diagonal_gaussian = generate_images_non_diagonal_gaussian(ae_model,z_average,z_covariance,n_images = 50)\n",
        "imgs_vae = generate_images_vae(vae_model,n_images=50)\n",
        "\n",
        "# average of maximum of first model \n",
        "diagonal_gaussian_score = float(generative_model_score(imgs_diagonal_gaussian,mnist_classification_model))\n",
        "non_diagonal_gaussian_score = float(generative_model_score(imgs_non_diagonal_gaussian,mnist_classification_model))\n",
        "vae_gaussian_score = float(generative_model_score(imgs_vae,mnist_classification_model))\n",
        "\n",
        "print(\"Diagonal gaussian generative model score : \",diagonal_gaussian_score)\n",
        "print(\"Non diagonal gaussian generative model score : \",non_diagonal_gaussian_score)\n",
        "print(\"Variational autoencoder model score: \",vae_gaussian_score) "
      ],
      "metadata": {
        "id": "4-L4u2jhILFx",
        "colab": {
          "base_uri": "https://localhost:8080/"
        },
        "outputId": "fb3fae38-f948-474a-9833-61cfa1c1fa4f"
      },
      "execution_count": 180,
      "outputs": [
        {
          "output_type": "stream",
          "name": "stdout",
          "text": [
            "Diagonal gaussian generative model score :  0.8860862255096436\n",
            "Non diagonal gaussian generative model score :  0.9031834602355957\n",
            "Variational autoencoder model score:  0.8526055812835693\n"
          ]
        }
      ]
    },
    {
      "cell_type": "markdown",
      "source": [
        "Please answer the following questions:\n",
        "\n",
        "- Which model is better quantitatively ? \n",
        "- Do the quantitative result support the qualitative results ?\n",
        "- Can you see any drawbacks of this method of evaluation ?\n",
        "- Can you propose any more sophisticated models than the multivariate Gaussian approach (apart from the variational autoencoder) ? "
      ],
      "metadata": {
        "id": "sxvsG8FC1gNS"
      }
    },
    {
      "cell_type": "markdown",
      "source": [
        "__Answer__"
      ],
      "metadata": {
        "id": "3SYCyfKR3G7Y"
      }
    },
    {
      "cell_type": "markdown",
      "source": [
        "- The Non diagonal gaussian generative model seems to be the best one quantiatively.\n",
        "- No, because to the eye, it seems that the variational autoencoder model works better. (at least we can recognise the numbers better)\n",
        "- This model is based on the classification model, so if the classification is wrong, then the results of the evalutation are wrong too.\n",
        "-"
      ],
      "metadata": {
        "id": "oMFc1LduCydC"
      }
    }
  ]
}